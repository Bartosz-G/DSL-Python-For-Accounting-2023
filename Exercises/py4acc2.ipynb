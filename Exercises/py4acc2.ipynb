{
 "cells": [
  {
   "attachments": {},
   "cell_type": "markdown",
   "metadata": {
    "pycharm": {
     "name": "#%% md\n"
    }
   },
   "source": [
    "<div style=\"background-color: #323031; padding:30px; color:#ffffff; border: 0px; -moz-border-radius: 10px; -webkit-border-radius: 10px;\">\n",
    "\n",
    "# Python for Accounting - Session 2\n",
    "\n",
    "&nbsp;\n",
    "\n",
    "Welcome to the Python for Accounting practical sessions. \n",
    "\n",
    "This series of practical sessions consists of three separate sessions, that will teach you to work with stock data and financial documents in Python. \n",
    "\n",
    "This 2nd session will teach you how to download and visualize stock price data and how to calculate returns."
   ]
  },
  {
   "attachments": {},
   "cell_type": "markdown",
   "metadata": {
    "pycharm": {
     "name": "#%% md\n"
    }
   },
   "source": [
    "<div  style=\"color:#1b1b1b; padding:30px; background-color:#f2f2f2; border: 0px; -moz-border-radius: 10px; -webkit-border-radius: 10px;\">\n",
    "    \n",
    "#### What you will learn in this session\n",
    "\n",
    "   \n",
    "Part 1 - Downloading and visualizing stock prices\n",
    "- To write and run code and enter text sections in Jupyter Notebooks\n",
    "- Downloading financial/stock data from yahoo finance\n",
    "- Using matplotlib to plot stock data with line plots\n",
    "- Customizing lines and plots\n",
    "- Combining multiple stock data series in a line plot\n",
    "\n",
    "<br>\n",
    "    \n",
    "Part 2 - Working with returns\n",
    "- calculating daily returns\n",
    "- calculating monthly (and annual) returns with grouped aggregation/broadcasting\n",
    "\n",
    "<br>\n",
    "\n",
    "### What to do when getting stuck\n",
    "<ol>\n",
    "    <li>Ask the trainer if you struggle to find a solution.</li>\n",
    "    <li>Search online:</li>\n",
    "    <ol>\n",
    "        <li>The answer box on the top of Google's results page</li>\n",
    "        <li><a href=\"https://www.stackoverflow.com\">stackoverflow.com</a> (task-specific solutions)</li>\n",
    "        <li><a href=\"https://www.w3schools.com\">w3schools.com</a> (basic python questions)</li>\n",
    "        <li><a href=\"https://www.realpython.com\">realpython.com</a> (topic-based tutorials)</li>\n",
    "    </ol>\n",
    "</ol>\n",
    "\n",
    "<br>\n",
    "\n",
    "\n",
    "### Using your own laptop\n",
    "\n",
    "1. Open the Anaconda prompt. Open the search bar (Windows-key or Cmd+Space) and type in Anaconda prompt.\n",
    "2. Type jupyter lab and hit Enter.\n",
    "3. In the jupyter lab app, select the folder from the menu on the left side where you downloaded the notebook.\n",
    "4. Double-click on the notebook to open it.\n",
    "\n",
    "If you are using your own laptop and haven't been able to install Anaconda, you will have to use Google Colab (see below).\n",
    "\n",
    "### Using Google Colab\n",
    "\n",
    "1. Open the [google colab](https://colab.research.google.com/) website.\n",
    "2. Select Upload and select the notebook from your harddrive.\n",
    "\n",
    "\n",
    "### Opening the jupyter notebook\n",
    "\n",
    "To open the jupyter notebook, you will need to launch the **jupyter lab app**.\n",
    "\n",
    "1. Open the Anaconda prompt (Click the Windows key and type in Anaconda Prompt and hit Enter).\n",
    "2. Switch to the H-drive by typing in H: and hit Enter.\n",
    "3. Type in jupyter lab and hit Enter.\n",
    "4. In the jupyter lab app, select the folder from the menu on the left side where you downloaded the notebook.\n",
    "5. Double-click on the notebook to open it."
   ]
  },
  {
   "attachments": {},
   "cell_type": "markdown",
   "metadata": {
    "pycharm": {
     "name": "#%% md\n"
    }
   },
   "source": [
    "<img src=\"https://upload.wikimedia.org/wikipedia/commons/thumb/6/6b/Microcosm_of_London_Plate_075_-_New_Stock_Exchange_%28tone%29.jpg/640px-Microcosm_of_London_Plate_075_-_New_Stock_Exchange_%28tone%29.jpg\" width=\"400px\" style=\"margin-left:auto;margin-right:auto\">\n",
    "<br>\n",
    "<div> The other LSE in 1810</div>"
   ]
  },
  {
   "cell_type": "markdown",
   "metadata": {
    "pycharm": {
     "name": "#%% md\n"
    }
   },
   "source": [
    "---"
   ]
  },
  {
   "cell_type": "markdown",
   "metadata": {
    "pycharm": {
     "name": "#%% md\n"
    }
   },
   "source": [
    "## Using Python for Finance\n",
    "\n",
    "Python is one of the most popular programming languages for data analysis/data science and is also the most popular programming language in fintech. Python is extremely versatile and although it might not be the language of choice for every purpose it certainly can be used for almost anything. Another great feature about Python is that it is very easy to learn and that you can find blogs, tutorials, forum posts or video tutorials on almost any topic. \n",
    "\n",
    "Here are some examples of how Python can be used to work with accounting and finance data:\n",
    "- transform and prepare data for statistical analysis\n",
    "- explore data through summary statistics and visualizations\n",
    "- run statistical and machine learning models to make predictions and generate insights from data\n",
    "- scrape data from websites\n",
    "- create interactive charts\n",
    "- build web applications\n",
    "\n",
    "This course will teach you how to apply Python to carry out accounting and finance specific tasks, such as retrieving stock market data through an API, plotting share prices and calculating new variables from an imported income statements or balance sheets and doing comparisons on these variables across different companies."
   ]
  },
  {
   "attachments": {},
   "cell_type": "markdown",
   "metadata": {
    "pycharm": {
     "name": "#%% md\n"
    }
   },
   "source": [
    "## Anaconda and Anaconda Navigator\n",
    "\n",
    "Anaconda is a Python distribution for data science that together with Anaconda Navigator, a graphical user interface for a range of applications,\n",
    "aims to provide a user-friendly working environment for beginners and experienced users. With Anaconda, you get base Python, the most important data science libraries and applications to write and run Python scripts with one installer, which simplifies the installation process.\n",
    "\n",
    "Anaconda is great for beginners since a wide range of data science libraries are already preinstalled and it makes it easy to install additional libraries and manage environments with conda, which is the package manager of the Anaconda distribution. Here is a [conda cheatsheet](https://docs.conda.io/projects/conda/en/4.6.0/_downloads/52a95608c49671267e40c689e0bc00ca/conda-cheatsheet.pdf) with the most important commands to install and manage libraries and environments.\n",
    "\n",
    "In addition, Anaconda Navigator offers a GUI to choose from a number of popular applications to write Python code, such as jupyter notebook, Spyder and VS Code.\n",
    "\n"
   ]
  },
  {
   "cell_type": "markdown",
   "metadata": {
    "pycharm": {
     "name": "#%% md\n"
    }
   },
   "source": [
    "### Installing libraries with conda\n",
    "\n",
    "The Anaconda repository is a Python library storage system that hosts several thousand libraries. The Anaconda repository is organized into a multitude of channels, the most commonly used being conda and conda-forge, which are managed by the Anaconda and condas-forge team respectively. The conda repository is the default channel which hosts the most commonly used libraries. Conda-forge stores libraries that are not yet part of the official Anaconda distribution. Although it probably won't make much of a difference whether you use conda or conda-forge, there are two reasons for why you might want to prefer conda-forge. Libraries on conda-forge are likely to be more up to date and you are also more likely to find a library on conda-forge.\n",
    "\n",
    "Below are two examples of how to install a library using conda"
   ]
  },
  {
   "cell_type": "code",
   "execution_count": null,
   "metadata": {
    "pycharm": {
     "name": "#%%\n"
    }
   },
   "outputs": [],
   "source": [
    "# installing pandas without specifying the channel\n",
    "conda install pandas"
   ]
  },
  {
   "cell_type": "code",
   "execution_count": null,
   "metadata": {
    "pycharm": {
     "name": "#%%\n"
    }
   },
   "outputs": [],
   "source": [
    "# installing specific version from conda-forge channel\n",
    "conda install pandas==1.5 -c conda-forge"
   ]
  },
  {
   "cell_type": "markdown",
   "metadata": {
    "pycharm": {
     "name": "#%% md\n"
    }
   },
   "source": [
    "## Installing yfinance\n",
    "\n",
    "The Anaconda distribution contains many of the most important libraries used for data science. The **yfinance** library however, which we will use to download stock price data from yahoo finance, is not part of it and has to be installed by the user. We use the `pip install` command to install the library. Most libraries that are used in the context of data analysis and machine learning are available from the conda repository. Since the yfinance library is not available from conda, we need to use the general Python package management system pip to install the library."
   ]
  },
  {
   "cell_type": "code",
   "execution_count": null,
   "metadata": {
    "pycharm": {
     "name": "#%%\n"
    }
   },
   "outputs": [],
   "source": [
    "pip install yfinance"
   ]
  },
  {
   "cell_type": "markdown",
   "metadata": {
    "pycharm": {
     "name": "#%% md\n"
    }
   },
   "source": [
    "\n",
    "&nbsp;\n",
    "\n",
    "---\n",
    "\n",
    "<br>"
   ]
  },
  {
   "cell_type": "markdown",
   "metadata": {
    "pycharm": {
     "name": "#%% md\n"
    }
   },
   "source": [
    "## Part 1 - Downloading and visualizing stock prices\n",
    "\n",
    "The first part of this workshop introduces you to how to download stock price data from yahoo finance with Python and how to generate line plots to visualize the development of the stock's price over time.\n",
    "\n",
    "We will use the `yfinance` library to download the historical stock data."
   ]
  },
  {
   "cell_type": "markdown",
   "metadata": {
    "pycharm": {
     "name": "#%% md\n"
    }
   },
   "source": [
    "### Task 1 - Installing yfinance\n",
    "\n",
    "1. Use the conda list command to check wether the yfinance library is installed on your PC. It should display the name, version, build and channel.\n",
    "\n",
    "```python\n",
    "    conda list yfinance\n",
    "```\n",
    "\n",
    "2. If the library is not listed, use `pip install yfinance` to install it. Once the library has been installed run `conda list yfinance` to verify the installation. "
   ]
  },
  {
   "cell_type": "code",
   "execution_count": null,
   "metadata": {
    "pycharm": {
     "name": "#%%\n"
    }
   },
   "outputs": [],
   "source": []
  },
  {
   "cell_type": "markdown",
   "metadata": {
    "pycharm": {
     "name": "#%% md\n"
    }
   },
   "source": [
    "&nbsp;\n",
    "\n",
    "&nbsp;"
   ]
  },
  {
   "cell_type": "markdown",
   "metadata": {
    "pycharm": {
     "name": "#%% md\n"
    }
   },
   "source": [
    "\n",
    "## Downloading financial data from yahoo finance"
   ]
  },
  {
   "cell_type": "markdown",
   "metadata": {
    "pycharm": {
     "name": "#%% md\n"
    }
   },
   "source": [
    "<img src=\"https://upload.wikimedia.org/wikipedia/commons/thumb/c/c5/Bitcoin_logo.svg/1920px-Bitcoin_logo.svg.png\" width=\"200px\" align=\"left\">"
   ]
  },
  {
   "cell_type": "markdown",
   "metadata": {
    "pycharm": {
     "name": "#%% md\n"
    }
   },
   "source": [
    "To download stock data from yahoo finance we will use the yfinance library. \n",
    "\n",
    "For this example, we are going to download the **Bitcoin to GBP rate**. There are more detailed explanations on the code below."
   ]
  },
  {
   "cell_type": "code",
   "execution_count": 7,
   "metadata": {
    "pycharm": {
     "name": "#%%\n"
    }
   },
   "outputs": [
    {
     "name": "stdout",
     "output_type": "stream",
     "text": [
      "[*********************100%***********************]  1 of 1 completed\n"
     ]
    }
   ],
   "source": [
    "# importing libraries\n",
    "import yfinance as yf\n",
    "import pandas as pd\n",
    "\n",
    "# creating a start and end date\n",
    "start = '2020-01-01'\n",
    "end = '2023-03-16'\n",
    "\n",
    "# creating a variable for the ticker\n",
    "ticker = 'BTC-GBP'\n",
    "\n",
    "# downloading the bitcoin to gbp rate\n",
    "btc = yf.download(ticker, start, end)"
   ]
  },
  {
   "attachments": {},
   "cell_type": "markdown",
   "metadata": {
    "pycharm": {
     "name": "#%% md\n"
    }
   },
   "source": [
    "**Line 2f: Importing libraries**\n",
    "\n",
    "```python\n",
    "import yfinance as yf\n",
    "import pandas as pd\n",
    "```\n",
    "\n",
    "In order to import and work with stock price data from yahoo finance, we will need the following libraries:\n",
    "\n",
    "- yfinance: To download stock price data \n",
    "- pandas: To work with the financial data as a dataframe"
   ]
  },
  {
   "attachments": {},
   "cell_type": "markdown",
   "metadata": {
    "pycharm": {
     "name": "#%% md\n"
    }
   },
   "source": [
    "**Line 6f: Creating a start and end date**\n",
    "\n",
    "\n",
    "```python\n",
    "start = '2020-01-01'\n",
    "end = '2022-03-16'\n",
    "```\n",
    "\n",
    "The `yf.download()` function does not require a start and end date. If no dates are provided, it will return the entire data available from yahoo finance.\n",
    "\n",
    "The dates are created as strings. The function expects the `%y-%m-%d` format, which stands for year-month-day."
   ]
  },
  {
   "attachments": {},
   "cell_type": "markdown",
   "metadata": {
    "pycharm": {
     "name": "#%% md\n"
    }
   },
   "source": [
    "**Line 10: Creating a ticker variable**\n",
    "\n",
    "```python\n",
    "ticker = 'BTC-GBP'\n",
    "```\n",
    "\n",
    "The ticker is a symbol to uniquely identify a stock. You can search the ticker on the yahoo finance website (see below). We store the ticker `'BTC-GBP'`for the Bitcon to British Pound rate in the variable `ticker`."
   ]
  },
  {
   "attachments": {},
   "cell_type": "markdown",
   "metadata": {
    "pycharm": {
     "name": "#%% md\n"
    }
   },
   "source": [
    "**Line 13: Downloading the data**\n",
    "\n",
    "```python\n",
    "btc = yf.download(ticker, start, end)\n",
    "```\n",
    "\n",
    "To download the data for the Bitcoin-GBP rate, we are going to use the `download()` function from the `yfinance` module to download the historical stock price data from finance.yahoo.com.\n",
    "\n",
    "The `yf.download()` function requires only a ticker arguments. The start and end arguments to specify the time range of the data are optional. If we ommit the dates, the function will download all available data from yahoo finance."
   ]
  },
  {
   "cell_type": "markdown",
   "metadata": {
    "pycharm": {
     "name": "#%% md\n"
    }
   },
   "source": [
    "We can now have a look at the data."
   ]
  },
  {
   "cell_type": "code",
   "execution_count": 8,
   "metadata": {
    "pycharm": {
     "name": "#%%\n"
    }
   },
   "outputs": [
    {
     "data": {
      "text/html": [
       "<div>\n",
       "<style scoped>\n",
       "    .dataframe tbody tr th:only-of-type {\n",
       "        vertical-align: middle;\n",
       "    }\n",
       "\n",
       "    .dataframe tbody tr th {\n",
       "        vertical-align: top;\n",
       "    }\n",
       "\n",
       "    .dataframe thead th {\n",
       "        text-align: right;\n",
       "    }\n",
       "</style>\n",
       "<table border=\"1\" class=\"dataframe\">\n",
       "  <thead>\n",
       "    <tr style=\"text-align: right;\">\n",
       "      <th></th>\n",
       "      <th>Open</th>\n",
       "      <th>High</th>\n",
       "      <th>Low</th>\n",
       "      <th>Close</th>\n",
       "      <th>Adj Close</th>\n",
       "      <th>Volume</th>\n",
       "    </tr>\n",
       "    <tr>\n",
       "      <th>Date</th>\n",
       "      <th></th>\n",
       "      <th></th>\n",
       "      <th></th>\n",
       "      <th></th>\n",
       "      <th></th>\n",
       "      <th></th>\n",
       "    </tr>\n",
       "  </thead>\n",
       "  <tbody>\n",
       "    <tr>\n",
       "      <th>2020-01-01</th>\n",
       "      <td>5425.667969</td>\n",
       "      <td>5472.485840</td>\n",
       "      <td>5407.095215</td>\n",
       "      <td>5433.849121</td>\n",
       "      <td>5433.849121</td>\n",
       "      <td>14011191757</td>\n",
       "    </tr>\n",
       "    <tr>\n",
       "      <th>2020-01-02</th>\n",
       "      <td>5435.643066</td>\n",
       "      <td>5437.121094</td>\n",
       "      <td>5277.165039</td>\n",
       "      <td>5313.357910</td>\n",
       "      <td>5313.357910</td>\n",
       "      <td>15822688746</td>\n",
       "    </tr>\n",
       "    <tr>\n",
       "      <th>2020-01-03</th>\n",
       "      <td>5312.565918</td>\n",
       "      <td>5662.306641</td>\n",
       "      <td>5263.736328</td>\n",
       "      <td>5615.142090</td>\n",
       "      <td>5615.142090</td>\n",
       "      <td>21491142914</td>\n",
       "    </tr>\n",
       "    <tr>\n",
       "      <th>2020-01-04</th>\n",
       "      <td>5615.517578</td>\n",
       "      <td>5678.214355</td>\n",
       "      <td>5588.101562</td>\n",
       "      <td>5665.424805</td>\n",
       "      <td>5665.424805</td>\n",
       "      <td>14100590057</td>\n",
       "    </tr>\n",
       "    <tr>\n",
       "      <th>2020-01-05</th>\n",
       "      <td>5665.268066</td>\n",
       "      <td>5764.659668</td>\n",
       "      <td>5659.478027</td>\n",
       "      <td>5666.796875</td>\n",
       "      <td>5666.796875</td>\n",
       "      <td>15082067804</td>\n",
       "    </tr>\n",
       "    <tr>\n",
       "      <th>...</th>\n",
       "      <td>...</td>\n",
       "      <td>...</td>\n",
       "      <td>...</td>\n",
       "      <td>...</td>\n",
       "      <td>...</td>\n",
       "      <td>...</td>\n",
       "    </tr>\n",
       "    <tr>\n",
       "      <th>2023-02-17</th>\n",
       "      <td>19726.652344</td>\n",
       "      <td>20691.490234</td>\n",
       "      <td>19595.220703</td>\n",
       "      <td>20396.548828</td>\n",
       "      <td>20396.548828</td>\n",
       "      <td>34339467134</td>\n",
       "    </tr>\n",
       "    <tr>\n",
       "      <th>2023-02-18</th>\n",
       "      <td>20396.294922</td>\n",
       "      <td>20590.201172</td>\n",
       "      <td>20326.783203</td>\n",
       "      <td>20459.380859</td>\n",
       "      <td>20459.380859</td>\n",
       "      <td>16294776289</td>\n",
       "    </tr>\n",
       "    <tr>\n",
       "      <th>2023-02-19</th>\n",
       "      <td>20458.343750</td>\n",
       "      <td>20834.488281</td>\n",
       "      <td>20224.128906</td>\n",
       "      <td>20224.128906</td>\n",
       "      <td>20224.128906</td>\n",
       "      <td>21244547111</td>\n",
       "    </tr>\n",
       "    <tr>\n",
       "      <th>2023-02-20</th>\n",
       "      <td>20231.593750</td>\n",
       "      <td>20789.173828</td>\n",
       "      <td>19909.097656</td>\n",
       "      <td>20624.455078</td>\n",
       "      <td>20624.455078</td>\n",
       "      <td>24078509287</td>\n",
       "    </tr>\n",
       "    <tr>\n",
       "      <th>2023-02-22</th>\n",
       "      <td>20190.898438</td>\n",
       "      <td>20201.859375</td>\n",
       "      <td>19805.468750</td>\n",
       "      <td>19970.673828</td>\n",
       "      <td>19970.673828</td>\n",
       "      <td>25942474752</td>\n",
       "    </tr>\n",
       "  </tbody>\n",
       "</table>\n",
       "<p>1148 rows × 6 columns</p>\n",
       "</div>"
      ],
      "text/plain": [
       "                    Open          High           Low         Close  \\\n",
       "Date                                                                 \n",
       "2020-01-01   5425.667969   5472.485840   5407.095215   5433.849121   \n",
       "2020-01-02   5435.643066   5437.121094   5277.165039   5313.357910   \n",
       "2020-01-03   5312.565918   5662.306641   5263.736328   5615.142090   \n",
       "2020-01-04   5615.517578   5678.214355   5588.101562   5665.424805   \n",
       "2020-01-05   5665.268066   5764.659668   5659.478027   5666.796875   \n",
       "...                  ...           ...           ...           ...   \n",
       "2023-02-17  19726.652344  20691.490234  19595.220703  20396.548828   \n",
       "2023-02-18  20396.294922  20590.201172  20326.783203  20459.380859   \n",
       "2023-02-19  20458.343750  20834.488281  20224.128906  20224.128906   \n",
       "2023-02-20  20231.593750  20789.173828  19909.097656  20624.455078   \n",
       "2023-02-22  20190.898438  20201.859375  19805.468750  19970.673828   \n",
       "\n",
       "               Adj Close       Volume  \n",
       "Date                                   \n",
       "2020-01-01   5433.849121  14011191757  \n",
       "2020-01-02   5313.357910  15822688746  \n",
       "2020-01-03   5615.142090  21491142914  \n",
       "2020-01-04   5665.424805  14100590057  \n",
       "2020-01-05   5666.796875  15082067804  \n",
       "...                  ...          ...  \n",
       "2023-02-17  20396.548828  34339467134  \n",
       "2023-02-18  20459.380859  16294776289  \n",
       "2023-02-19  20224.128906  21244547111  \n",
       "2023-02-20  20624.455078  24078509287  \n",
       "2023-02-22  19970.673828  25942474752  \n",
       "\n",
       "[1148 rows x 6 columns]"
      ]
     },
     "execution_count": 8,
     "metadata": {},
     "output_type": "execute_result"
    }
   ],
   "source": [
    "btc"
   ]
  },
  {
   "cell_type": "markdown",
   "metadata": {
    "pycharm": {
     "name": "#%% md\n"
    }
   },
   "source": [
    "<img src=\"https://www.dropbox.com/s/ijgo4f0sm3k2xc0/tesco_ms.png?raw=1\" align=\"left\" width=400px>"
   ]
  },
  {
   "attachments": {},
   "cell_type": "markdown",
   "metadata": {
    "pycharm": {
     "name": "#%% md\n"
    }
   },
   "source": [
    "<br>\n",
    "\n",
    "<br>\n",
    "\n",
    "### Task 2: Import the stock data from Tesco and Marks and Spencer"
   ]
  },
  {
   "cell_type": "markdown",
   "metadata": {
    "pycharm": {
     "name": "#%% md\n"
    }
   },
   "source": [
    "1. Import the relevant libraries as shown above.\n",
    "2. Search for the ticker for Tesco and Marks and Spencer from the London Stock Exchange on https://uk.finance.yahoo.com/\n",
    "\n",
    "<img src=\"https://www.dropbox.com/s/ggjn22cr2vhru8q/yahoo_finance.png?raw=1\" width=500px>\n",
    "\n",
    "3. Create as a start date 2010 and today as the end date.\n",
    "4. Import the stock data using yahoo finance as the source and store both in separate variables.\n",
    "5. Export both datasets as a csv.\n",
    "6. Print the head of each dataset.\n",
    "7. The start and end date are optional parameters. How else can you get the data from the past 10 years, apart from entering the end date?"
   ]
  },
  {
   "cell_type": "code",
   "execution_count": 24,
   "metadata": {
    "pycharm": {
     "name": "#%%\n"
    }
   },
   "outputs": [],
   "source": [
    "# import libraries\n",
    "\n",
    "\n",
    "# set ticker variables\n",
    "\n",
    "\n",
    "# set start and end dates\n",
    "\n",
    "\n",
    "# download stock data\n"
   ]
  },
  {
   "cell_type": "code",
   "execution_count": 27,
   "metadata": {
    "pycharm": {
     "name": "#%%\n"
    }
   },
   "outputs": [],
   "source": [
    "# export stock data to csv\n",
    "\n"
   ]
  },
  {
   "cell_type": "code",
   "execution_count": 25,
   "metadata": {
    "pycharm": {
     "name": "#%%\n"
    }
   },
   "outputs": [
    {
     "data": {
      "text/html": [
       "<div>\n",
       "<style scoped>\n",
       "    .dataframe tbody tr th:only-of-type {\n",
       "        vertical-align: middle;\n",
       "    }\n",
       "\n",
       "    .dataframe tbody tr th {\n",
       "        vertical-align: top;\n",
       "    }\n",
       "\n",
       "    .dataframe thead th {\n",
       "        text-align: right;\n",
       "    }\n",
       "</style>\n",
       "<table border=\"1\" class=\"dataframe\">\n",
       "  <thead>\n",
       "    <tr style=\"text-align: right;\">\n",
       "      <th></th>\n",
       "      <th>High</th>\n",
       "      <th>Low</th>\n",
       "      <th>Open</th>\n",
       "      <th>Close</th>\n",
       "      <th>Volume</th>\n",
       "      <th>Adj Close</th>\n",
       "    </tr>\n",
       "    <tr>\n",
       "      <th>Date</th>\n",
       "      <th></th>\n",
       "      <th></th>\n",
       "      <th></th>\n",
       "      <th></th>\n",
       "      <th></th>\n",
       "      <th></th>\n",
       "    </tr>\n",
       "  </thead>\n",
       "  <tbody>\n",
       "    <tr>\n",
       "      <th>2010-01-04</th>\n",
       "      <td>391.808685</td>\n",
       "      <td>379.941498</td>\n",
       "      <td>384.023804</td>\n",
       "      <td>391.523895</td>\n",
       "      <td>9607789.0</td>\n",
       "      <td>250.705688</td>\n",
       "    </tr>\n",
       "    <tr>\n",
       "      <th>2010-01-05</th>\n",
       "      <td>389.245392</td>\n",
       "      <td>381.175690</td>\n",
       "      <td>389.245392</td>\n",
       "      <td>384.403595</td>\n",
       "      <td>14440266.0</td>\n",
       "      <td>246.146240</td>\n",
       "    </tr>\n",
       "    <tr>\n",
       "      <th>2010-01-06</th>\n",
       "      <td>372.061615</td>\n",
       "      <td>356.396912</td>\n",
       "      <td>369.308411</td>\n",
       "      <td>358.295593</td>\n",
       "      <td>49485008.0</td>\n",
       "      <td>229.428391</td>\n",
       "    </tr>\n",
       "    <tr>\n",
       "      <th>2010-01-07</th>\n",
       "      <td>358.960205</td>\n",
       "      <td>350.890503</td>\n",
       "      <td>356.112091</td>\n",
       "      <td>352.219604</td>\n",
       "      <td>19742326.0</td>\n",
       "      <td>225.537766</td>\n",
       "    </tr>\n",
       "    <tr>\n",
       "      <th>2010-01-08</th>\n",
       "      <td>353.928497</td>\n",
       "      <td>346.523285</td>\n",
       "      <td>352.504395</td>\n",
       "      <td>347.852509</td>\n",
       "      <td>21221404.0</td>\n",
       "      <td>222.741409</td>\n",
       "    </tr>\n",
       "  </tbody>\n",
       "</table>\n",
       "</div>"
      ],
      "text/plain": [
       "                  High         Low        Open       Close      Volume  \\\n",
       "Date                                                                     \n",
       "2010-01-04  391.808685  379.941498  384.023804  391.523895   9607789.0   \n",
       "2010-01-05  389.245392  381.175690  389.245392  384.403595  14440266.0   \n",
       "2010-01-06  372.061615  356.396912  369.308411  358.295593  49485008.0   \n",
       "2010-01-07  358.960205  350.890503  356.112091  352.219604  19742326.0   \n",
       "2010-01-08  353.928497  346.523285  352.504395  347.852509  21221404.0   \n",
       "\n",
       "             Adj Close  \n",
       "Date                    \n",
       "2010-01-04  250.705688  \n",
       "2010-01-05  246.146240  \n",
       "2010-01-06  229.428391  \n",
       "2010-01-07  225.537766  \n",
       "2010-01-08  222.741409  "
      ]
     },
     "execution_count": 25,
     "metadata": {},
     "output_type": "execute_result"
    }
   ],
   "source": [
    "# print head of each dataset\n"
   ]
  },
  {
   "cell_type": "code",
   "execution_count": 26,
   "metadata": {
    "pycharm": {
     "name": "#%%\n"
    }
   },
   "outputs": [
    {
     "data": {
      "text/html": [
       "<div>\n",
       "<style scoped>\n",
       "    .dataframe tbody tr th:only-of-type {\n",
       "        vertical-align: middle;\n",
       "    }\n",
       "\n",
       "    .dataframe tbody tr th {\n",
       "        vertical-align: top;\n",
       "    }\n",
       "\n",
       "    .dataframe thead th {\n",
       "        text-align: right;\n",
       "    }\n",
       "</style>\n",
       "<table border=\"1\" class=\"dataframe\">\n",
       "  <thead>\n",
       "    <tr style=\"text-align: right;\">\n",
       "      <th></th>\n",
       "      <th>High</th>\n",
       "      <th>Low</th>\n",
       "      <th>Open</th>\n",
       "      <th>Close</th>\n",
       "      <th>Volume</th>\n",
       "      <th>Adj Close</th>\n",
       "    </tr>\n",
       "    <tr>\n",
       "      <th>Date</th>\n",
       "      <th></th>\n",
       "      <th></th>\n",
       "      <th></th>\n",
       "      <th></th>\n",
       "      <th></th>\n",
       "      <th></th>\n",
       "    </tr>\n",
       "  </thead>\n",
       "  <tbody>\n",
       "    <tr>\n",
       "      <th>2010-01-04</th>\n",
       "      <td>545.806396</td>\n",
       "      <td>538.523071</td>\n",
       "      <td>542.006409</td>\n",
       "      <td>542.639709</td>\n",
       "      <td>6520208.0</td>\n",
       "      <td>310.860474</td>\n",
       "    </tr>\n",
       "    <tr>\n",
       "      <th>2010-01-05</th>\n",
       "      <td>536.939697</td>\n",
       "      <td>529.783081</td>\n",
       "      <td>536.686401</td>\n",
       "      <td>532.569702</td>\n",
       "      <td>13344524.0</td>\n",
       "      <td>305.091644</td>\n",
       "    </tr>\n",
       "    <tr>\n",
       "      <th>2010-01-06</th>\n",
       "      <td>533.646423</td>\n",
       "      <td>518.953125</td>\n",
       "      <td>533.203125</td>\n",
       "      <td>521.929688</td>\n",
       "      <td>25619244.0</td>\n",
       "      <td>298.996368</td>\n",
       "    </tr>\n",
       "    <tr>\n",
       "      <th>2010-01-07</th>\n",
       "      <td>529.656372</td>\n",
       "      <td>521.676392</td>\n",
       "      <td>522.626404</td>\n",
       "      <td>521.866394</td>\n",
       "      <td>13978624.0</td>\n",
       "      <td>298.960114</td>\n",
       "    </tr>\n",
       "    <tr>\n",
       "      <th>2010-01-08</th>\n",
       "      <td>526.869690</td>\n",
       "      <td>520.029724</td>\n",
       "      <td>521.549683</td>\n",
       "      <td>526.869690</td>\n",
       "      <td>16293960.0</td>\n",
       "      <td>301.826294</td>\n",
       "    </tr>\n",
       "  </tbody>\n",
       "</table>\n",
       "</div>"
      ],
      "text/plain": [
       "                  High         Low        Open       Close      Volume  \\\n",
       "Date                                                                     \n",
       "2010-01-04  545.806396  538.523071  542.006409  542.639709   6520208.0   \n",
       "2010-01-05  536.939697  529.783081  536.686401  532.569702  13344524.0   \n",
       "2010-01-06  533.646423  518.953125  533.203125  521.929688  25619244.0   \n",
       "2010-01-07  529.656372  521.676392  522.626404  521.866394  13978624.0   \n",
       "2010-01-08  526.869690  520.029724  521.549683  526.869690  16293960.0   \n",
       "\n",
       "             Adj Close  \n",
       "Date                    \n",
       "2010-01-04  310.860474  \n",
       "2010-01-05  305.091644  \n",
       "2010-01-06  298.996368  \n",
       "2010-01-07  298.960114  \n",
       "2010-01-08  301.826294  "
      ]
     },
     "execution_count": 26,
     "metadata": {},
     "output_type": "execute_result"
    }
   ],
   "source": [
    "# print head of each dataset\n"
   ]
  },
  {
   "attachments": {},
   "cell_type": "markdown",
   "metadata": {
    "pycharm": {
     "name": "#%% md\n"
    }
   },
   "source": [
    "<br>\n",
    "\n",
    "<br>\n",
    "\n",
    "\n",
    "## Inspecting a dataset"
   ]
  },
  {
   "cell_type": "markdown",
   "metadata": {
    "pycharm": {
     "name": "#%% md\n"
    }
   },
   "source": [
    "### Getting an overview of the data\n",
    "\n",
    "Pandas has a number of useful methods to get an overview of your dataset. Try a websearch if you cannot remember the method from the courses on dataquest.io to solve the task."
   ]
  },
  {
   "cell_type": "markdown",
   "metadata": {
    "pycharm": {
     "name": "#%% md\n"
    }
   },
   "source": [
    "### Task 3: Inspecting the dataset\n",
    "\n",
    "1. Print the column types of the Tesco and Marks and Spencer stock dataset.\n",
    "2. Print the number of rows of both datasets. You should find that there is one row less for the Tesco stock price data.\n",
    "3. Print the the first and last value in the Adjusted Close column of each dataset.\n",
    "4. Print the descriptive statistcs (mean, min, max, standard deviation, etc) of the Adjusted Close column of each dataset.\n",
    "\n",
    "**Bonus task:** Can you identify the date where the Marks and Spencer stock was, but the Tesco stock wasn't traded?\n",
    "\n",
    "<br>"
   ]
  },
  {
   "cell_type": "code",
   "execution_count": 2,
   "metadata": {
    "pycharm": {
     "name": "#%%\n"
    }
   },
   "outputs": [],
   "source": [
    "# Print the column types of the Tesco and Marks and Spencer stock dataset.\n",
    "\n"
   ]
  },
  {
   "cell_type": "code",
   "execution_count": 59,
   "metadata": {
    "pycharm": {
     "name": "#%%\n"
    }
   },
   "outputs": [],
   "source": [
    "# Print the number of rows of both datasets.\n",
    "\n"
   ]
  },
  {
   "cell_type": "code",
   "execution_count": 60,
   "metadata": {
    "pycharm": {
     "name": "#%%\n"
    }
   },
   "outputs": [],
   "source": [
    "# Print the the first and last value in the Close column of each dataset.\n",
    "\n"
   ]
  },
  {
   "cell_type": "code",
   "execution_count": 61,
   "metadata": {
    "pycharm": {
     "name": "#%%\n"
    }
   },
   "outputs": [],
   "source": [
    "# Print the descriptive statistics for the Adjusted Close column of each dataset.\n",
    "\n"
   ]
  },
  {
   "cell_type": "code",
   "execution_count": 62,
   "metadata": {
    "pycharm": {
     "name": "#%%\n"
    }
   },
   "outputs": [],
   "source": [
    "# bonus task: which date is missing in the Tesco stock price data\n",
    "\n"
   ]
  },
  {
   "attachments": {},
   "cell_type": "markdown",
   "metadata": {
    "pycharm": {
     "name": "#%% md\n"
    }
   },
   "source": [
    "<br>\n",
    "\n",
    "<br>\n",
    "\n",
    "<br>\n",
    "\n",
    "### Plotting with matplotlib"
   ]
  },
  {
   "cell_type": "markdown",
   "metadata": {
    "pycharm": {
     "name": "#%% md\n"
    }
   },
   "source": [
    "Matplotlib is the most popular plotting library in Python. It allows you to create many different plots with very few code. Although creating more complex plots, can be challenging, it isn't difficult to find useful help in [blog posts](https://towardsdatascience.com/matplotlib-tutorial-learn-basics-of-pythons-powerful-plotting-library-b5d1b8f67596), [tutorials](https://realpython.com/python-matplotlib-guide/), on [stackoverflow.com](https://stackoverflow.com/questions/tagged/matplotlib?sort=MostVotes&edited=true) or the documentation and tutorials on the [matplotlib website](https://matplotlib.org/tutorials/).\n",
    "\n",
    "We are going to use the **matplotlib** library to plot the Bitcoin to British Pound rate as a function of time. We can use the **index** of the **btc** data frame to retrieve the date and the **Adj Close** column to plot the Bitcoin to Pound rate."
   ]
  },
  {
   "attachments": {},
   "cell_type": "markdown",
   "metadata": {
    "pycharm": {
     "name": "#%% md\n"
    }
   },
   "source": [
    "#### Simple line plot"
   ]
  },
  {
   "cell_type": "code",
   "execution_count": 24,
   "metadata": {
    "pycharm": {
     "name": "#%%\n"
    }
   },
   "outputs": [
    {
     "data": {
      "image/png": "[encoded data removed]",
      "text/plain": [
       "<Figure size 640x480 with 1 Axes>"
      ]
     },
     "metadata": {},
     "output_type": "display_data"
    }
   ],
   "source": [
    "#import matplotlib\n",
    "import matplotlib.pyplot as plt\n",
    "\n",
    "# plot Adj Close column\n",
    "plt.plot(btc.index, btc['Adj Close'])\n",
    "\n",
    "plt.show()"
   ]
  },
  {
   "attachments": {},
   "cell_type": "markdown",
   "metadata": {
    "pycharm": {
     "name": "#%% md\n"
    }
   },
   "source": [
    "**Line 1: Importing matplotlib**\n",
    "\n",
    "```python\n",
    "import matplotlib.pyplot as plt\n",
    "```\n",
    "\n",
    "We start by importing the `pyplot` module from the `matplotlib` library under the alias `plt`."
   ]
  },
  {
   "attachments": {},
   "cell_type": "markdown",
   "metadata": {
    "pycharm": {
     "name": "#%% md\n"
    }
   },
   "source": [
    "**Line 3: line plot**\n",
    "\n",
    "```python\n",
    "plt.plot(btc.index, btc['Close'])\n",
    "```\n",
    "\n",
    "From the `plt` module we call the `plot()` function and we pass as arguments the **index** and the **Close** column of the btc dataframe. The values for the x and y axis are positional arguments, which means they have to be passed in this order."
   ]
  },
  {
   "attachments": {},
   "cell_type": "markdown",
   "metadata": {
    "pycharm": {
     "name": "#%% md\n"
    }
   },
   "source": [
    "**Line 4: plt.show()**\n",
    "\n",
    "```python\n",
    "plt.show()\n",
    "```\n",
    "\n",
    "The `plt.show()` command is used to display matplotlib figures. It is actually not necessary to run the plt.show() command in a Jupyter notebook to display the figures, but you would have to use it to display a plot in a normal Python script for instance."
   ]
  },
  {
   "cell_type": "markdown",
   "metadata": {
    "pycharm": {
     "name": "#%% md\n"
    }
   },
   "source": [
    "### Task 4: A simple line plot\n",
    "\n",
    "1. Import matplotlib\n",
    "2. Create a line plot of the Adjusted Close column of the Tesco stock on the y-axis and the date on the x-axis."
   ]
  },
  {
   "cell_type": "code",
   "execution_count": null,
   "metadata": {
    "pycharm": {
     "name": "#%%\n"
    }
   },
   "outputs": [],
   "source": [
    "\n",
    "\n"
   ]
  },
  {
   "attachments": {},
   "cell_type": "markdown",
   "metadata": {
    "pycharm": {
     "name": "#%% md\n"
    }
   },
   "source": [
    "<br>\n",
    "\n",
    "<br>\n",
    "\n",
    "\n",
    "### Customized line plot\n",
    "\n",
    "In the next step, we will customize the look of the plot by changing colors, adding labels and text and adding a grid. See explanations on the code below."
   ]
  },
  {
   "cell_type": "code",
   "execution_count": 56,
   "metadata": {
    "pycharm": {
     "name": "#%%\n"
    }
   },
   "outputs": [
    {
     "data": {
      "image/png": "[encoded data removed]",
      "text/plain": [
       "<Figure size 640x480 with 1 Axes>"
      ]
     },
     "metadata": {},
     "output_type": "display_data"
    }
   ],
   "source": [
    "plt.plot(btc.index, btc['Adj Close'], c='tab:orange', lw=1.5, alpha=0.8)\n",
    "\n",
    "plt.title('Bitcoin') # adding a plot title\n",
    "plt.xlabel('Date') # adding an x-axis label\n",
    "plt.ylabel('Adj Close in GBP') # adding a y-axis label\n",
    "plt.xticks(rotation=30)\n",
    "plt.yticks([10000, 20000, 30000, 40000, 50000]\n",
    "           ,['£10000', '£20000', '£30000', '£40000', '£50000']\n",
    "          )\n",
    "plt.grid(linestyle='--') # adding a grid to the plot\n",
    "\n",
    "plt.show()"
   ]
  },
  {
   "attachments": {},
   "cell_type": "markdown",
   "metadata": {
    "pycharm": {
     "name": "#%% md\n"
    }
   },
   "source": [
    "**Line 1: Changing the appearance of the line**\n",
    "\n",
    "\n",
    "```python\n",
    "plt.plot(btc.index, btc['Adj Close'], color='tab:orange', linewidth=1.5, alpha=.8)\n",
    "```\n",
    "We can change the appearance of the line with several keyword arguments to be passed to the `plt.plot()` function. \n",
    "\n",
    "We use the `color` argument to change the colour to the tableau orange with `'tab:orange'`. Have a look at the [matplotlib documentation](https://matplotlib.org/3.1.0/gallery/color/named_colors.html) for a colour palette and corresponding names.\n",
    "\n",
    "The `linewdith` argument takes float values to adjust the width of the line.\n",
    "\n",
    "With the `alpha` argument you can change the transparency of the line. You have to pass a value between 0 and 1."
   ]
  },
  {
   "attachments": {},
   "cell_type": "markdown",
   "metadata": {
    "pycharm": {
     "name": "#%% md\n"
    }
   },
   "source": [
    "**Line 3-5: Adding a title and labels**\n",
    "\n",
    "\n",
    "```python\n",
    "plt.title('Bitcoin')\n",
    "plt.xlabel('Date')\n",
    "plt.ylabel('Price in GBP')\n",
    "```\n",
    "\n",
    "To add a title and labels for the x- and y-axis, we use `plt.title()`, `plt.xlabel()` and `plt.ylabel()` and pass a string for the title and axes labels.\n",
    "\n",
    "<br>\n",
    "\n",
    "**Line 6: Changing x-tick orientation**\n",
    "\n",
    "```python\n",
    "plt.xticks(rotation=30)\n",
    "```\n",
    "The orientation of the x-ticks can be adjusted by passing a degree value to the rotation parameter from the `plt.xticks()` function.\n",
    "\n",
    "<br>\n",
    "\n",
    "**Line 7-8: Adding tick labels on y-axis**\n",
    "\n",
    "```python\n",
    "plt.yticks([10000, 20000, 30000, 40000, 50000],\n",
    "           ['£10000', '£20000', '£30000', '£40000', '£50000'])\n",
    "```\n",
    "\n",
    "We can change the tick labels on the y-axis with `plt.ticks()` to display numbers preceded with a Pound symbol. To do this, we have to pass two lists to the function - the first containing the tick positions (10000 - 50000) and the second containing the string values that should be displayed at each tick position. \n",
    "\n",
    "<br>\n",
    "\n",
    "**Line 8: Addng a grid**\n",
    "```python\n",
    "plt.grid(linestyle='--')\n",
    "```\n",
    "\n",
    "`plt.grid(linestyle='--')` adds a grid. With the `linestyle` argument we can change the from a solid to a dashed line."
   ]
  },
  {
   "cell_type": "markdown",
   "metadata": {
    "pycharm": {
     "name": "#%% md\n"
    }
   },
   "source": [
    "### Task 5: Customizing the line plot\n",
    "\n",
    "1. Adjust the colour, linewidth and alpha\n",
    "2. Add a title and axis labels\n",
    "3. Change the yticks to display a pound sign before the numbers\n",
    "4. Add a grid"
   ]
  },
  {
   "cell_type": "code",
   "execution_count": 41,
   "metadata": {
    "pycharm": {
     "name": "#%%\n"
    }
   },
   "outputs": [],
   "source": [
    "\n",
    "\n"
   ]
  },
  {
   "attachments": {},
   "cell_type": "markdown",
   "metadata": {
    "pycharm": {
     "name": "#%% md\n"
    }
   },
   "source": [
    "<br>\n",
    "\n",
    "<br>\n",
    "\n",
    "### Adding a second data series and a legend\n",
    "\n",
    "In the example below, a second line with the adjusted close price for Ethereum, which is another crypto currency, is added to the plot. See below for detailed explanations on the code."
   ]
  },
  {
   "cell_type": "code",
   "execution_count": 106,
   "metadata": {
    "pycharm": {
     "name": "#%%\n"
    }
   },
   "outputs": [
    {
     "data": {
      "image/png": "[encoded data removed]",
      "text/plain": [
       "<Figure size 432x288 with 1 Axes>"
      ]
     },
     "metadata": {
      "needs_background": "light"
     },
     "output_type": "display_data"
    }
   ],
   "source": [
    "eth = yf.download('ETH-GBP', start, end)\n",
    "\n",
    "plt.plot(btc.index, btc['Adj Close'], color='tab:orange', label='Bitcoin') # plotting the first line\n",
    "plt.plot(eth.index, eth['Adj Close'], color='tab:blue', label='Ethereum') # plotting the second line\n",
    "\n",
    "plt.title('BTC vs ETH')\n",
    "plt.xlabel('Date')\n",
    "plt.ylabel('Price in GBP')\n",
    "plt.xticks(rotation=30)\n",
    "plt.yticks([10000, 20000, 30000, 40000, 50000],\n",
    "           ['£10000', '£20000', '£30000', '£40000', '£50000'])\n",
    "plt.grid(linestyle='--')\n",
    "plt.legend() # displaying the legend using labels from plt.plot()\n",
    "\n",
    "plt.show()"
   ]
  },
  {
   "cell_type": "markdown",
   "metadata": {
    "pycharm": {
     "name": "#%% md\n"
    }
   },
   "source": [
    "#### Line 3f: Plotting two lines in the same plot\n",
    "\n",
    "```python\n",
    "plt.plot(btc.index, btc['Adj Close'], color='tab:orange', label='Bitcoin')\n",
    "plt.plot(eth.index, eth['Adj Close'], color='tab:blue', label='Ethereum')\n",
    "```\n",
    "\n",
    "To add a second data series to the plot, you can add another `plt.plot()` call. In the example below, a second line is created by using the values from the Adj Close column of the Ethereum data. To better differentiate the two lines the colour is set to `tab:blue` and a label is applied with the `label` argument."
   ]
  },
  {
   "cell_type": "markdown",
   "metadata": {
    "pycharm": {
     "name": "#%% md\n"
    }
   },
   "source": [
    "#### Line 13: Adding a legend\n",
    "\n",
    "```python\n",
    "plt.legend()\n",
    "```\n",
    "\n",
    "With `plt.legend()` the legend is being displayed in the plot area. The legend will use the labels that we added to the lines with the `label` argument in line 1 and 2."
   ]
  },
  {
   "cell_type": "markdown",
   "metadata": {
    "pycharm": {
     "name": "#%% md\n"
    }
   },
   "source": [
    "### Task 6: Adding a second line\n",
    "\n",
    "1. Add a second line to the plot for the Marks and Spencer Adj Close column\n",
    "2. Add labels to both lines\n",
    "3. Add a legend\n",
    "4. Adjust the title\n",
    "5. Adjust the yaxis ticks"
   ]
  },
  {
   "cell_type": "code",
   "execution_count": null,
   "metadata": {
    "pycharm": {
     "name": "#%%\n"
    }
   },
   "outputs": [],
   "source": [
    "\n",
    "\n"
   ]
  },
  {
   "attachments": {},
   "cell_type": "markdown",
   "metadata": {
    "pycharm": {
     "name": "#%% md\n"
    }
   },
   "source": [
    "<br>\n",
    "\n",
    "<br>\n",
    "\n",
    "---\n",
    "\n",
    "<br>"
   ]
  },
  {
   "cell_type": "markdown",
   "metadata": {
    "pycharm": {
     "name": "#%% md\n"
    }
   },
   "source": [
    "<br>\n",
    "\n",
    "## Part 2 - Working with Returns\n",
    "\n",
    "In this part, you will learn how to calculate returns for each day, month and year and how to create new columns for these values in the stock price dataframe that you downloaded from yahoo finance.\n",
    "\n",
    "We will use the Netflix stock price data, which has seen a phenomenal growth over the last decade. The first six months of 2022, however, have shown a rapid decline in the stock's price."
   ]
  },
  {
   "cell_type": "markdown",
   "metadata": {
    "pycharm": {
     "name": "#%% md\n"
    }
   },
   "source": [
    "<br>\n",
    "\n",
    "<br>\n",
    "\n",
    "<img src=\"https://upload.wikimedia.org/wikipedia/commons/thumb/0/08/Netflix_2015_logo.svg/800px-Netflix_2015_logo.svg.png\" width=\"40%\" align=\"left\">"
   ]
  },
  {
   "cell_type": "markdown",
   "metadata": {
    "pycharm": {
     "name": "#%% md\n"
    }
   },
   "source": [
    "In the first two task, you will download and visualize the Netflix stock price with a line chart that adds a shaded area under the curve to make it look visually more appealing. "
   ]
  },
  {
   "cell_type": "markdown",
   "metadata": {
    "pycharm": {
     "name": "#%% md\n"
    }
   },
   "source": [
    "### Task 1: Import netflix stock\n",
    "\n",
    "1. Search for the ticker for the Netflix stock on the yahoo finance website\n",
    "2. Import the Netflix stock data from 2009 till today\n",
    "3. Print the head of the dataframe\n",
    "4. Print the first and last date to verify the download of the data using the loc operator.\n",
    "\n",
    "(Check back on the materials from the 1st practical session if you do not remember the name of the libraries, functions or how to use them exactly)"
   ]
  },
  {
   "cell_type": "code",
   "execution_count": 47,
   "metadata": {
    "pycharm": {
     "name": "#%%\n"
    }
   },
   "outputs": [],
   "source": [
    "# import netflix stock data from 2009\n",
    "\n",
    "\n",
    "# print the head of the data\n"
   ]
  },
  {
   "cell_type": "code",
   "execution_count": 7,
   "metadata": {
    "pycharm": {
     "name": "#%%\n"
    }
   },
   "outputs": [],
   "source": [
    "# print data from first and last date\n",
    "\n"
   ]
  },
  {
   "attachments": {},
   "cell_type": "markdown",
   "metadata": {
    "pycharm": {
     "name": "#%% md\n"
    }
   },
   "source": [
    "&nbsp;\n",
    "\n",
    "&nbsp;\n",
    "\n",
    "### Calculating returns"
   ]
  },
  {
   "cell_type": "markdown",
   "metadata": {
    "pycharm": {
     "name": "#%% md\n"
    }
   },
   "source": [
    "In the next step, you are going to calculate daily, monthly and annual returns based for the Netflix stock. Returns tell you how much money an investor would have made over a particular period of time by giving either the absolute or percentual change of the price from one day/month/year to another."
   ]
  },
  {
   "attachments": {},
   "cell_type": "markdown",
   "metadata": {
    "pycharm": {
     "name": "#%% md\n"
    }
   },
   "source": [
    "#### Calculating daily returns"
   ]
  },
  {
   "cell_type": "markdown",
   "metadata": {
    "pycharm": {
     "name": "#%% md\n"
    }
   },
   "source": [
    "In the example below, we will use the Amazon stock data which is stored in the dataframe **amzn**. To calculate the daily return, that is, the percentual change from one day to another, we can use the `.pct_change()` method. We apply this method to the **Adj Close** column and assign the result to a new column called **daily_ret**."
   ]
  },
  {
   "cell_type": "code",
   "execution_count": 2,
   "metadata": {
    "pycharm": {
     "name": "#%%\n"
    }
   },
   "outputs": [],
   "source": [
    "amzn = yf.download('AMZN')"
   ]
  },
  {
   "cell_type": "code",
   "execution_count": 5,
   "metadata": {
    "pycharm": {
     "name": "#%%\n"
    }
   },
   "outputs": [
    {
     "data": {
      "text/plain": [
       "Date\n",
       "1997-05-15         NaN\n",
       "1997-05-16   -0.117028\n",
       "1997-05-19   -0.012040\n",
       "1997-05-20   -0.042685\n",
       "1997-05-21   -0.127392\n",
       "                ...   \n",
       "2022-12-01   -0.010773\n",
       "2022-12-02   -0.014346\n",
       "2022-12-05   -0.033146\n",
       "2022-12-06   -0.030326\n",
       "2022-12-07    0.002380\n",
       "Name: Adj Close, Length: 6435, dtype: float64"
      ]
     },
     "execution_count": 5,
     "metadata": {},
     "output_type": "execute_result"
    }
   ],
   "source": [
    "amzn['Adj Close'].pct_change()"
   ]
  },
  {
   "cell_type": "code",
   "execution_count": 6,
   "metadata": {
    "pycharm": {
     "name": "#%%\n"
    }
   },
   "outputs": [],
   "source": [
    "amzn['daily_ret'] = amzn['Adj Close'].pct_change()"
   ]
  },
  {
   "cell_type": "markdown",
   "metadata": {
    "pycharm": {
     "name": "#%% md\n"
    }
   },
   "source": [
    "As you can see, the new column **daily_ret** has been added to the dataframe. The values indicate the percentual change from one day to another. \n",
    "\n",
    "The second value in the **daily_ret** column represents the percentual change from the first to the second value in the **Adj Close** column."
   ]
  },
  {
   "cell_type": "code",
   "execution_count": 7,
   "metadata": {
    "pycharm": {
     "name": "#%%\n"
    }
   },
   "outputs": [
    {
     "data": {
      "text/html": [
       "<div>\n",
       "<style scoped>\n",
       "    .dataframe tbody tr th:only-of-type {\n",
       "        vertical-align: middle;\n",
       "    }\n",
       "\n",
       "    .dataframe tbody tr th {\n",
       "        vertical-align: top;\n",
       "    }\n",
       "\n",
       "    .dataframe thead th {\n",
       "        text-align: right;\n",
       "    }\n",
       "</style>\n",
       "<table border=\"1\" class=\"dataframe\">\n",
       "  <thead>\n",
       "    <tr style=\"text-align: right;\">\n",
       "      <th></th>\n",
       "      <th>High</th>\n",
       "      <th>Low</th>\n",
       "      <th>Open</th>\n",
       "      <th>Close</th>\n",
       "      <th>Volume</th>\n",
       "      <th>Adj Close</th>\n",
       "      <th>daily_ret</th>\n",
       "    </tr>\n",
       "    <tr>\n",
       "      <th>Date</th>\n",
       "      <th></th>\n",
       "      <th></th>\n",
       "      <th></th>\n",
       "      <th></th>\n",
       "      <th></th>\n",
       "      <th></th>\n",
       "      <th></th>\n",
       "    </tr>\n",
       "  </thead>\n",
       "  <tbody>\n",
       "    <tr>\n",
       "      <th>1997-05-15</th>\n",
       "      <td>0.125000</td>\n",
       "      <td>0.096354</td>\n",
       "      <td>0.121875</td>\n",
       "      <td>0.097917</td>\n",
       "      <td>1.443120e+09</td>\n",
       "      <td>0.097917</td>\n",
       "      <td>NaN</td>\n",
       "    </tr>\n",
       "    <tr>\n",
       "      <th>1997-05-16</th>\n",
       "      <td>0.098958</td>\n",
       "      <td>0.085417</td>\n",
       "      <td>0.098438</td>\n",
       "      <td>0.086458</td>\n",
       "      <td>2.940000e+08</td>\n",
       "      <td>0.086458</td>\n",
       "      <td>-0.117028</td>\n",
       "    </tr>\n",
       "    <tr>\n",
       "      <th>1997-05-19</th>\n",
       "      <td>0.088542</td>\n",
       "      <td>0.081250</td>\n",
       "      <td>0.088021</td>\n",
       "      <td>0.085417</td>\n",
       "      <td>1.221360e+08</td>\n",
       "      <td>0.085417</td>\n",
       "      <td>-0.012040</td>\n",
       "    </tr>\n",
       "    <tr>\n",
       "      <th>1997-05-20</th>\n",
       "      <td>0.087500</td>\n",
       "      <td>0.081771</td>\n",
       "      <td>0.086458</td>\n",
       "      <td>0.081771</td>\n",
       "      <td>1.093440e+08</td>\n",
       "      <td>0.081771</td>\n",
       "      <td>-0.042685</td>\n",
       "    </tr>\n",
       "    <tr>\n",
       "      <th>1997-05-21</th>\n",
       "      <td>0.082292</td>\n",
       "      <td>0.068750</td>\n",
       "      <td>0.081771</td>\n",
       "      <td>0.071354</td>\n",
       "      <td>3.770640e+08</td>\n",
       "      <td>0.071354</td>\n",
       "      <td>-0.127392</td>\n",
       "    </tr>\n",
       "  </tbody>\n",
       "</table>\n",
       "</div>"
      ],
      "text/plain": [
       "                High       Low      Open     Close        Volume  Adj Close  \\\n",
       "Date                                                                          \n",
       "1997-05-15  0.125000  0.096354  0.121875  0.097917  1.443120e+09   0.097917   \n",
       "1997-05-16  0.098958  0.085417  0.098438  0.086458  2.940000e+08   0.086458   \n",
       "1997-05-19  0.088542  0.081250  0.088021  0.085417  1.221360e+08   0.085417   \n",
       "1997-05-20  0.087500  0.081771  0.086458  0.081771  1.093440e+08   0.081771   \n",
       "1997-05-21  0.082292  0.068750  0.081771  0.071354  3.770640e+08   0.071354   \n",
       "\n",
       "            daily_ret  \n",
       "Date                   \n",
       "1997-05-15        NaN  \n",
       "1997-05-16  -0.117028  \n",
       "1997-05-19  -0.012040  \n",
       "1997-05-20  -0.042685  \n",
       "1997-05-21  -0.127392  "
      ]
     },
     "execution_count": 7,
     "metadata": {},
     "output_type": "execute_result"
    }
   ],
   "source": [
    "amzn.head()"
   ]
  },
  {
   "cell_type": "markdown",
   "metadata": {
    "pycharm": {
     "name": "#%% md\n"
    }
   },
   "source": [
    "### Task 2: Daily Netflix returns\n",
    "\n",
    "Add a column to the netflix dataframe on the daily returns."
   ]
  },
  {
   "cell_type": "code",
   "execution_count": null,
   "metadata": {
    "pycharm": {
     "name": "#%%\n"
    }
   },
   "outputs": [],
   "source": [
    "\n",
    "\n"
   ]
  },
  {
   "attachments": {},
   "cell_type": "markdown",
   "metadata": {
    "pycharm": {
     "name": "#%% md\n"
    }
   },
   "source": [
    "&nbsp;\n",
    "\n",
    "&nbsp;\n",
    "\n",
    "\n",
    "### Calculating total returns"
   ]
  },
  {
   "cell_type": "markdown",
   "metadata": {
    "pycharm": {
     "name": "#%% md\n"
    }
   },
   "source": [
    "As you can see in the **daily_ret** column, we cannot calculate the product of these values to yield the return over several days, months or years, since these values are all close to zero."
   ]
  },
  {
   "cell_type": "code",
   "execution_count": 68,
   "metadata": {
    "pycharm": {
     "name": "#%%\n"
    }
   },
   "outputs": [
    {
     "data": {
      "text/html": [
       "<div>\n",
       "<style scoped>\n",
       "    .dataframe tbody tr th:only-of-type {\n",
       "        vertical-align: middle;\n",
       "    }\n",
       "\n",
       "    .dataframe tbody tr th {\n",
       "        vertical-align: top;\n",
       "    }\n",
       "\n",
       "    .dataframe thead th {\n",
       "        text-align: right;\n",
       "    }\n",
       "</style>\n",
       "<table border=\"1\" class=\"dataframe\">\n",
       "  <thead>\n",
       "    <tr style=\"text-align: right;\">\n",
       "      <th></th>\n",
       "      <th>High</th>\n",
       "      <th>Low</th>\n",
       "      <th>Open</th>\n",
       "      <th>Close</th>\n",
       "      <th>Volume</th>\n",
       "      <th>Adj Close</th>\n",
       "      <th>daily_ret</th>\n",
       "    </tr>\n",
       "    <tr>\n",
       "      <th>Date</th>\n",
       "      <th></th>\n",
       "      <th></th>\n",
       "      <th></th>\n",
       "      <th></th>\n",
       "      <th></th>\n",
       "      <th></th>\n",
       "      <th></th>\n",
       "    </tr>\n",
       "  </thead>\n",
       "  <tbody>\n",
       "    <tr>\n",
       "      <th>1997-05-15</th>\n",
       "      <td>0.125000</td>\n",
       "      <td>0.096354</td>\n",
       "      <td>0.121875</td>\n",
       "      <td>0.097917</td>\n",
       "      <td>1.443120e+09</td>\n",
       "      <td>0.097917</td>\n",
       "      <td>NaN</td>\n",
       "    </tr>\n",
       "    <tr>\n",
       "      <th>1997-05-16</th>\n",
       "      <td>0.098958</td>\n",
       "      <td>0.085417</td>\n",
       "      <td>0.098438</td>\n",
       "      <td>0.086458</td>\n",
       "      <td>2.940000e+08</td>\n",
       "      <td>0.086458</td>\n",
       "      <td>-0.117028</td>\n",
       "    </tr>\n",
       "    <tr>\n",
       "      <th>1997-05-19</th>\n",
       "      <td>0.088542</td>\n",
       "      <td>0.081250</td>\n",
       "      <td>0.088021</td>\n",
       "      <td>0.085417</td>\n",
       "      <td>1.221360e+08</td>\n",
       "      <td>0.085417</td>\n",
       "      <td>-0.012040</td>\n",
       "    </tr>\n",
       "    <tr>\n",
       "      <th>1997-05-20</th>\n",
       "      <td>0.087500</td>\n",
       "      <td>0.081771</td>\n",
       "      <td>0.086458</td>\n",
       "      <td>0.081771</td>\n",
       "      <td>1.093440e+08</td>\n",
       "      <td>0.081771</td>\n",
       "      <td>-0.042685</td>\n",
       "    </tr>\n",
       "    <tr>\n",
       "      <th>1997-05-21</th>\n",
       "      <td>0.082292</td>\n",
       "      <td>0.068750</td>\n",
       "      <td>0.081771</td>\n",
       "      <td>0.071354</td>\n",
       "      <td>3.770640e+08</td>\n",
       "      <td>0.071354</td>\n",
       "      <td>-0.127392</td>\n",
       "    </tr>\n",
       "  </tbody>\n",
       "</table>\n",
       "</div>"
      ],
      "text/plain": [
       "                High       Low      Open     Close        Volume  Adj Close  \\\n",
       "Date                                                                          \n",
       "1997-05-15  0.125000  0.096354  0.121875  0.097917  1.443120e+09   0.097917   \n",
       "1997-05-16  0.098958  0.085417  0.098438  0.086458  2.940000e+08   0.086458   \n",
       "1997-05-19  0.088542  0.081250  0.088021  0.085417  1.221360e+08   0.085417   \n",
       "1997-05-20  0.087500  0.081771  0.086458  0.081771  1.093440e+08   0.081771   \n",
       "1997-05-21  0.082292  0.068750  0.081771  0.071354  3.770640e+08   0.071354   \n",
       "\n",
       "            daily_ret  \n",
       "Date                   \n",
       "1997-05-15        NaN  \n",
       "1997-05-16  -0.117028  \n",
       "1997-05-19  -0.012040  \n",
       "1997-05-20  -0.042685  \n",
       "1997-05-21  -0.127392  "
      ]
     },
     "execution_count": 68,
     "metadata": {},
     "output_type": "execute_result"
    }
   ],
   "source": [
    "amzn.head()"
   ]
  },
  {
   "cell_type": "markdown",
   "metadata": {
    "pycharm": {
     "name": "#%% md\n"
    }
   },
   "source": [
    "Trying to calculate the return rate for May 1997 using the `.prod()` method on the **daily_ret** values return a number very close to 0."
   ]
  },
  {
   "cell_type": "code",
   "execution_count": 17,
   "metadata": {
    "pycharm": {
     "name": "#%%\n"
    }
   },
   "outputs": [
    {
     "data": {
      "text/html": [
       "<div>\n",
       "<style scoped>\n",
       "    .dataframe tbody tr th:only-of-type {\n",
       "        vertical-align: middle;\n",
       "    }\n",
       "\n",
       "    .dataframe tbody tr th {\n",
       "        vertical-align: top;\n",
       "    }\n",
       "\n",
       "    .dataframe thead th {\n",
       "        text-align: right;\n",
       "    }\n",
       "</style>\n",
       "<table border=\"1\" class=\"dataframe\">\n",
       "  <thead>\n",
       "    <tr style=\"text-align: right;\">\n",
       "      <th></th>\n",
       "      <th>High</th>\n",
       "      <th>Low</th>\n",
       "      <th>Open</th>\n",
       "      <th>Close</th>\n",
       "      <th>Volume</th>\n",
       "      <th>Adj Close</th>\n",
       "      <th>daily_ret</th>\n",
       "    </tr>\n",
       "    <tr>\n",
       "      <th>Date</th>\n",
       "      <th></th>\n",
       "      <th></th>\n",
       "      <th></th>\n",
       "      <th></th>\n",
       "      <th></th>\n",
       "      <th></th>\n",
       "      <th></th>\n",
       "    </tr>\n",
       "  </thead>\n",
       "  <tbody>\n",
       "    <tr>\n",
       "      <th>1997-05-15</th>\n",
       "      <td>0.125000</td>\n",
       "      <td>0.096354</td>\n",
       "      <td>0.121875</td>\n",
       "      <td>0.097917</td>\n",
       "      <td>1.443120e+09</td>\n",
       "      <td>0.097917</td>\n",
       "      <td>NaN</td>\n",
       "    </tr>\n",
       "    <tr>\n",
       "      <th>1997-05-16</th>\n",
       "      <td>0.098958</td>\n",
       "      <td>0.085417</td>\n",
       "      <td>0.098438</td>\n",
       "      <td>0.086458</td>\n",
       "      <td>2.940000e+08</td>\n",
       "      <td>0.086458</td>\n",
       "      <td>-0.117028</td>\n",
       "    </tr>\n",
       "    <tr>\n",
       "      <th>1997-05-19</th>\n",
       "      <td>0.088542</td>\n",
       "      <td>0.081250</td>\n",
       "      <td>0.088021</td>\n",
       "      <td>0.085417</td>\n",
       "      <td>1.221360e+08</td>\n",
       "      <td>0.085417</td>\n",
       "      <td>-0.012040</td>\n",
       "    </tr>\n",
       "    <tr>\n",
       "      <th>1997-05-20</th>\n",
       "      <td>0.087500</td>\n",
       "      <td>0.081771</td>\n",
       "      <td>0.086458</td>\n",
       "      <td>0.081771</td>\n",
       "      <td>1.093440e+08</td>\n",
       "      <td>0.081771</td>\n",
       "      <td>-0.042685</td>\n",
       "    </tr>\n",
       "    <tr>\n",
       "      <th>1997-05-21</th>\n",
       "      <td>0.082292</td>\n",
       "      <td>0.068750</td>\n",
       "      <td>0.081771</td>\n",
       "      <td>0.071354</td>\n",
       "      <td>3.770640e+08</td>\n",
       "      <td>0.071354</td>\n",
       "      <td>-0.127392</td>\n",
       "    </tr>\n",
       "    <tr>\n",
       "      <th>...</th>\n",
       "      <td>...</td>\n",
       "      <td>...</td>\n",
       "      <td>...</td>\n",
       "      <td>...</td>\n",
       "      <td>...</td>\n",
       "      <td>...</td>\n",
       "      <td>...</td>\n",
       "    </tr>\n",
       "    <tr>\n",
       "      <th>2022-12-01</th>\n",
       "      <td>97.230003</td>\n",
       "      <td>94.919998</td>\n",
       "      <td>96.989998</td>\n",
       "      <td>95.500000</td>\n",
       "      <td>6.848800e+07</td>\n",
       "      <td>95.500000</td>\n",
       "      <td>-0.010773</td>\n",
       "    </tr>\n",
       "    <tr>\n",
       "      <th>2022-12-02</th>\n",
       "      <td>95.360001</td>\n",
       "      <td>93.779999</td>\n",
       "      <td>94.480003</td>\n",
       "      <td>94.129997</td>\n",
       "      <td>7.242700e+07</td>\n",
       "      <td>94.129997</td>\n",
       "      <td>-0.014346</td>\n",
       "    </tr>\n",
       "    <tr>\n",
       "      <th>2022-12-05</th>\n",
       "      <td>94.059998</td>\n",
       "      <td>90.820000</td>\n",
       "      <td>93.050003</td>\n",
       "      <td>91.010002</td>\n",
       "      <td>7.153550e+07</td>\n",
       "      <td>91.010002</td>\n",
       "      <td>-0.033146</td>\n",
       "    </tr>\n",
       "    <tr>\n",
       "      <th>2022-12-06</th>\n",
       "      <td>91.040001</td>\n",
       "      <td>87.900002</td>\n",
       "      <td>90.500000</td>\n",
       "      <td>88.250000</td>\n",
       "      <td>7.550360e+07</td>\n",
       "      <td>88.250000</td>\n",
       "      <td>-0.030326</td>\n",
       "    </tr>\n",
       "    <tr>\n",
       "      <th>2022-12-07</th>\n",
       "      <td>89.889999</td>\n",
       "      <td>87.480003</td>\n",
       "      <td>88.339996</td>\n",
       "      <td>88.459999</td>\n",
       "      <td>6.797730e+07</td>\n",
       "      <td>88.459999</td>\n",
       "      <td>0.002380</td>\n",
       "    </tr>\n",
       "  </tbody>\n",
       "</table>\n",
       "<p>6435 rows × 7 columns</p>\n",
       "</div>"
      ],
      "text/plain": [
       "                 High        Low       Open      Close        Volume  \\\n",
       "Date                                                                   \n",
       "1997-05-15   0.125000   0.096354   0.121875   0.097917  1.443120e+09   \n",
       "1997-05-16   0.098958   0.085417   0.098438   0.086458  2.940000e+08   \n",
       "1997-05-19   0.088542   0.081250   0.088021   0.085417  1.221360e+08   \n",
       "1997-05-20   0.087500   0.081771   0.086458   0.081771  1.093440e+08   \n",
       "1997-05-21   0.082292   0.068750   0.081771   0.071354  3.770640e+08   \n",
       "...               ...        ...        ...        ...           ...   \n",
       "2022-12-01  97.230003  94.919998  96.989998  95.500000  6.848800e+07   \n",
       "2022-12-02  95.360001  93.779999  94.480003  94.129997  7.242700e+07   \n",
       "2022-12-05  94.059998  90.820000  93.050003  91.010002  7.153550e+07   \n",
       "2022-12-06  91.040001  87.900002  90.500000  88.250000  7.550360e+07   \n",
       "2022-12-07  89.889999  87.480003  88.339996  88.459999  6.797730e+07   \n",
       "\n",
       "            Adj Close  daily_ret  \n",
       "Date                              \n",
       "1997-05-15   0.097917        NaN  \n",
       "1997-05-16   0.086458  -0.117028  \n",
       "1997-05-19   0.085417  -0.012040  \n",
       "1997-05-20   0.081771  -0.042685  \n",
       "1997-05-21   0.071354  -0.127392  \n",
       "...               ...        ...  \n",
       "2022-12-01  95.500000  -0.010773  \n",
       "2022-12-02  94.129997  -0.014346  \n",
       "2022-12-05  91.010002  -0.033146  \n",
       "2022-12-06  88.250000  -0.030326  \n",
       "2022-12-07  88.459999   0.002380  \n",
       "\n",
       "[6435 rows x 7 columns]"
      ]
     },
     "execution_count": 17,
     "metadata": {},
     "output_type": "execute_result"
    }
   ],
   "source": [
    "amzn"
   ]
  },
  {
   "cell_type": "markdown",
   "metadata": {
    "pycharm": {
     "name": "#%% md\n"
    }
   },
   "source": [
    "We first have to add 1 to all values, calculate the product and then substract 1. \n",
    "\n",
    "We start by creating a new column **daily_ret_1**."
   ]
  },
  {
   "cell_type": "code",
   "execution_count": 29,
   "metadata": {
    "scrolled": true,
    "pycharm": {
     "name": "#%%\n"
    }
   },
   "outputs": [
    {
     "data": {
      "text/html": [
       "<div>\n",
       "<style scoped>\n",
       "    .dataframe tbody tr th:only-of-type {\n",
       "        vertical-align: middle;\n",
       "    }\n",
       "\n",
       "    .dataframe tbody tr th {\n",
       "        vertical-align: top;\n",
       "    }\n",
       "\n",
       "    .dataframe thead th {\n",
       "        text-align: right;\n",
       "    }\n",
       "</style>\n",
       "<table border=\"1\" class=\"dataframe\">\n",
       "  <thead>\n",
       "    <tr style=\"text-align: right;\">\n",
       "      <th></th>\n",
       "      <th>High</th>\n",
       "      <th>Low</th>\n",
       "      <th>Open</th>\n",
       "      <th>Close</th>\n",
       "      <th>Volume</th>\n",
       "      <th>Adj Close</th>\n",
       "      <th>daily_ret</th>\n",
       "      <th>daily_ret_1</th>\n",
       "    </tr>\n",
       "    <tr>\n",
       "      <th>Date</th>\n",
       "      <th></th>\n",
       "      <th></th>\n",
       "      <th></th>\n",
       "      <th></th>\n",
       "      <th></th>\n",
       "      <th></th>\n",
       "      <th></th>\n",
       "      <th></th>\n",
       "    </tr>\n",
       "  </thead>\n",
       "  <tbody>\n",
       "    <tr>\n",
       "      <th>1997-05-15</th>\n",
       "      <td>0.125000</td>\n",
       "      <td>0.096354</td>\n",
       "      <td>0.121875</td>\n",
       "      <td>0.097917</td>\n",
       "      <td>1.443120e+09</td>\n",
       "      <td>0.097917</td>\n",
       "      <td>NaN</td>\n",
       "      <td>NaN</td>\n",
       "    </tr>\n",
       "    <tr>\n",
       "      <th>1997-05-16</th>\n",
       "      <td>0.098958</td>\n",
       "      <td>0.085417</td>\n",
       "      <td>0.098438</td>\n",
       "      <td>0.086458</td>\n",
       "      <td>2.940000e+08</td>\n",
       "      <td>0.086458</td>\n",
       "      <td>-0.117028</td>\n",
       "      <td>0.882972</td>\n",
       "    </tr>\n",
       "    <tr>\n",
       "      <th>1997-05-19</th>\n",
       "      <td>0.088542</td>\n",
       "      <td>0.081250</td>\n",
       "      <td>0.088021</td>\n",
       "      <td>0.085417</td>\n",
       "      <td>1.221360e+08</td>\n",
       "      <td>0.085417</td>\n",
       "      <td>-0.012040</td>\n",
       "      <td>0.987960</td>\n",
       "    </tr>\n",
       "    <tr>\n",
       "      <th>1997-05-20</th>\n",
       "      <td>0.087500</td>\n",
       "      <td>0.081771</td>\n",
       "      <td>0.086458</td>\n",
       "      <td>0.081771</td>\n",
       "      <td>1.093440e+08</td>\n",
       "      <td>0.081771</td>\n",
       "      <td>-0.042685</td>\n",
       "      <td>0.957315</td>\n",
       "    </tr>\n",
       "    <tr>\n",
       "      <th>1997-05-21</th>\n",
       "      <td>0.082292</td>\n",
       "      <td>0.068750</td>\n",
       "      <td>0.081771</td>\n",
       "      <td>0.071354</td>\n",
       "      <td>3.770640e+08</td>\n",
       "      <td>0.071354</td>\n",
       "      <td>-0.127392</td>\n",
       "      <td>0.872608</td>\n",
       "    </tr>\n",
       "  </tbody>\n",
       "</table>\n",
       "</div>"
      ],
      "text/plain": [
       "                High       Low      Open     Close        Volume  Adj Close  \\\n",
       "Date                                                                          \n",
       "1997-05-15  0.125000  0.096354  0.121875  0.097917  1.443120e+09   0.097917   \n",
       "1997-05-16  0.098958  0.085417  0.098438  0.086458  2.940000e+08   0.086458   \n",
       "1997-05-19  0.088542  0.081250  0.088021  0.085417  1.221360e+08   0.085417   \n",
       "1997-05-20  0.087500  0.081771  0.086458  0.081771  1.093440e+08   0.081771   \n",
       "1997-05-21  0.082292  0.068750  0.081771  0.071354  3.770640e+08   0.071354   \n",
       "\n",
       "            daily_ret  daily_ret_1  \n",
       "Date                                \n",
       "1997-05-15        NaN          NaN  \n",
       "1997-05-16  -0.117028     0.882972  \n",
       "1997-05-19  -0.012040     0.987960  \n",
       "1997-05-20  -0.042685     0.957315  \n",
       "1997-05-21  -0.127392     0.872608  "
      ]
     },
     "execution_count": 29,
     "metadata": {},
     "output_type": "execute_result"
    }
   ],
   "source": [
    "amzn['daily_ret_1'] = amzn['daily_ret'] + 1\n",
    "amzn.head()"
   ]
  },
  {
   "cell_type": "markdown",
   "metadata": {
    "pycharm": {
     "name": "#%% md\n"
    }
   },
   "source": [
    "If we now calculate the return rate for May 1997, we can see that the price decreased by 23.40 %"
   ]
  },
  {
   "cell_type": "code",
   "execution_count": 30,
   "metadata": {
    "pycharm": {
     "name": "#%%\n"
    }
   },
   "outputs": [
    {
     "data": {
      "text/plain": [
       "-0.2340451143747122"
      ]
     },
     "execution_count": 30,
     "metadata": {},
     "output_type": "execute_result"
    }
   ],
   "source": [
    "ret_05_97 = amzn['daily_ret_1'][:11].prod()\n",
    "ret_05_97 -= 1\n",
    "ret_05_97"
   ]
  },
  {
   "cell_type": "markdown",
   "metadata": {
    "pycharm": {
     "name": "#%% md\n"
    }
   },
   "source": [
    "<br>\n",
    "\n",
    "### Task 3 - Calculating total return\n",
    "\n",
    "The total return is the actual return on investment over a specific period of time. \n",
    "\n",
    "We calculated the total return for the first 11 days in the example above.\n",
    "\n",
    "1. Follow the same steps to calculate the total return for the first 30 days.\n",
    "    1. Add a new column for the total returns + 1.\n",
    "    2. Select the first 30 days and calculate the product of the daily_ret_1 column.\n",
    "    3. Subtract 1 from the result. This yields the total return for the 30 days. The return should be 29.02 %.\n",
    "\n",
    "<br>\n",
    "\n",
    "2. Calculate the total return for the first year - 2009.\n",
    "    1. Select a subset of the data for only 2009. You can use logical indexing with a string to select rows for a specific time period. See the example below.\n",
    "    2. Calculate the product of the daily_ret_1 column using the 2009 subset.\n",
    "    3. Subtract 1 from the result. The return for 2009 should be 84.43%.\n",
    "\n",
    "The code below will select all data from 2000 onwards.\n",
    "\n",
    "```python\n",
    "mask = amzn.index >= '2000-01-01'\n",
    "\n",
    "amz[mask]\n",
    "```\n",
    "\n",
    "<br>\n"
   ]
  },
  {
   "cell_type": "code",
   "execution_count": 53,
   "metadata": {
    "pycharm": {
     "name": "#%%\n"
    }
   },
   "outputs": [],
   "source": [
    "# calculate total retur for first 30 days\n"
   ]
  },
  {
   "cell_type": "code",
   "execution_count": 52,
   "metadata": {
    "pycharm": {
     "name": "#%%\n"
    }
   },
   "outputs": [],
   "source": [
    "# calculate total return for the first year\n"
   ]
  },
  {
   "attachments": {},
   "cell_type": "markdown",
   "metadata": {
    "pycharm": {
     "name": "#%% md\n"
    }
   },
   "source": [
    "<br>\n",
    "\n",
    "\n",
    "### Calculating monthly and annual returns"
   ]
  },
  {
   "cell_type": "markdown",
   "metadata": {
    "pycharm": {
     "name": "#%% md\n"
    }
   },
   "source": [
    "To calculate monthly returns, we will have to calculate the percentage changes separately for each month. In order to achieve this, we have to group the **amzn** dataframe based on the year and month and then calculate the monthly return rate."
   ]
  },
  {
   "cell_type": "markdown",
   "metadata": {
    "pycharm": {
     "name": "#%% md\n"
    }
   },
   "source": [
    "To group the dataframe, we first create a month and year column. We can extract the year and month from the index column **date** by calling the year and month attribute of the index."
   ]
  },
  {
   "cell_type": "code",
   "execution_count": 33,
   "metadata": {
    "pycharm": {
     "name": "#%%\n"
    }
   },
   "outputs": [
    {
     "data": {
      "text/plain": [
       "Int64Index([ 5,  5,  5,  5,  5,  5,  5,  5,  5,  5,\n",
       "            ...\n",
       "            11, 11, 11, 11, 11, 12, 12, 12, 12, 12],\n",
       "           dtype='int64', name='Date', length=6435)"
      ]
     },
     "execution_count": 33,
     "metadata": {},
     "output_type": "execute_result"
    }
   ],
   "source": [
    "amzn.index.month"
   ]
  },
  {
   "cell_type": "code",
   "execution_count": 34,
   "metadata": {
    "pycharm": {
     "name": "#%%\n"
    }
   },
   "outputs": [
    {
     "data": {
      "text/html": [
       "<div>\n",
       "<style scoped>\n",
       "    .dataframe tbody tr th:only-of-type {\n",
       "        vertical-align: middle;\n",
       "    }\n",
       "\n",
       "    .dataframe tbody tr th {\n",
       "        vertical-align: top;\n",
       "    }\n",
       "\n",
       "    .dataframe thead th {\n",
       "        text-align: right;\n",
       "    }\n",
       "</style>\n",
       "<table border=\"1\" class=\"dataframe\">\n",
       "  <thead>\n",
       "    <tr style=\"text-align: right;\">\n",
       "      <th></th>\n",
       "      <th>High</th>\n",
       "      <th>Low</th>\n",
       "      <th>Open</th>\n",
       "      <th>Close</th>\n",
       "      <th>Volume</th>\n",
       "      <th>Adj Close</th>\n",
       "      <th>daily_ret</th>\n",
       "      <th>daily_ret_1</th>\n",
       "      <th>year</th>\n",
       "      <th>month</th>\n",
       "    </tr>\n",
       "    <tr>\n",
       "      <th>Date</th>\n",
       "      <th></th>\n",
       "      <th></th>\n",
       "      <th></th>\n",
       "      <th></th>\n",
       "      <th></th>\n",
       "      <th></th>\n",
       "      <th></th>\n",
       "      <th></th>\n",
       "      <th></th>\n",
       "      <th></th>\n",
       "    </tr>\n",
       "  </thead>\n",
       "  <tbody>\n",
       "    <tr>\n",
       "      <th>1997-05-15</th>\n",
       "      <td>0.125000</td>\n",
       "      <td>0.096354</td>\n",
       "      <td>0.121875</td>\n",
       "      <td>0.097917</td>\n",
       "      <td>1.443120e+09</td>\n",
       "      <td>0.097917</td>\n",
       "      <td>NaN</td>\n",
       "      <td>NaN</td>\n",
       "      <td>1997</td>\n",
       "      <td>5</td>\n",
       "    </tr>\n",
       "    <tr>\n",
       "      <th>1997-05-16</th>\n",
       "      <td>0.098958</td>\n",
       "      <td>0.085417</td>\n",
       "      <td>0.098438</td>\n",
       "      <td>0.086458</td>\n",
       "      <td>2.940000e+08</td>\n",
       "      <td>0.086458</td>\n",
       "      <td>-0.117028</td>\n",
       "      <td>0.882972</td>\n",
       "      <td>1997</td>\n",
       "      <td>5</td>\n",
       "    </tr>\n",
       "    <tr>\n",
       "      <th>1997-05-19</th>\n",
       "      <td>0.088542</td>\n",
       "      <td>0.081250</td>\n",
       "      <td>0.088021</td>\n",
       "      <td>0.085417</td>\n",
       "      <td>1.221360e+08</td>\n",
       "      <td>0.085417</td>\n",
       "      <td>-0.012040</td>\n",
       "      <td>0.987960</td>\n",
       "      <td>1997</td>\n",
       "      <td>5</td>\n",
       "    </tr>\n",
       "    <tr>\n",
       "      <th>1997-05-20</th>\n",
       "      <td>0.087500</td>\n",
       "      <td>0.081771</td>\n",
       "      <td>0.086458</td>\n",
       "      <td>0.081771</td>\n",
       "      <td>1.093440e+08</td>\n",
       "      <td>0.081771</td>\n",
       "      <td>-0.042685</td>\n",
       "      <td>0.957315</td>\n",
       "      <td>1997</td>\n",
       "      <td>5</td>\n",
       "    </tr>\n",
       "    <tr>\n",
       "      <th>1997-05-21</th>\n",
       "      <td>0.082292</td>\n",
       "      <td>0.068750</td>\n",
       "      <td>0.081771</td>\n",
       "      <td>0.071354</td>\n",
       "      <td>3.770640e+08</td>\n",
       "      <td>0.071354</td>\n",
       "      <td>-0.127392</td>\n",
       "      <td>0.872608</td>\n",
       "      <td>1997</td>\n",
       "      <td>5</td>\n",
       "    </tr>\n",
       "  </tbody>\n",
       "</table>\n",
       "</div>"
      ],
      "text/plain": [
       "                High       Low      Open     Close        Volume  Adj Close  \\\n",
       "Date                                                                          \n",
       "1997-05-15  0.125000  0.096354  0.121875  0.097917  1.443120e+09   0.097917   \n",
       "1997-05-16  0.098958  0.085417  0.098438  0.086458  2.940000e+08   0.086458   \n",
       "1997-05-19  0.088542  0.081250  0.088021  0.085417  1.221360e+08   0.085417   \n",
       "1997-05-20  0.087500  0.081771  0.086458  0.081771  1.093440e+08   0.081771   \n",
       "1997-05-21  0.082292  0.068750  0.081771  0.071354  3.770640e+08   0.071354   \n",
       "\n",
       "            daily_ret  daily_ret_1  year  month  \n",
       "Date                                             \n",
       "1997-05-15        NaN          NaN  1997      5  \n",
       "1997-05-16  -0.117028     0.882972  1997      5  \n",
       "1997-05-19  -0.012040     0.987960  1997      5  \n",
       "1997-05-20  -0.042685     0.957315  1997      5  \n",
       "1997-05-21  -0.127392     0.872608  1997      5  "
      ]
     },
     "execution_count": 34,
     "metadata": {},
     "output_type": "execute_result"
    }
   ],
   "source": [
    "amzn['year'] = amzn.index.year\n",
    "amzn['month'] = amzn.index.month\n",
    "\n",
    "amzn.head()"
   ]
  },
  {
   "cell_type": "markdown",
   "metadata": {
    "pycharm": {
     "name": "#%% md\n"
    }
   },
   "source": [
    "Let us first practice with calculating the annual and then monthly returns before we add them as a new column to the dataframe in the following exercise.\n",
    "\n",
    "We pass `'year'` to the `.groupby()` method to group the data based on the year column. This will split the **amzn** dataframe into separate groups for each year. From this grouped version of the data, we select the daily returns with `['daily_ret_1]` and aggregate those values with `.prod()`. This calculates the product of the `daily_ret_1` values for each year.\n",
    "\n",
    "We have to subtract 1 for the values to represent the actual annual return rate."
   ]
  },
  {
   "cell_type": "code",
   "execution_count": 40,
   "metadata": {
    "pycharm": {
     "name": "#%%\n"
    }
   },
   "outputs": [
    {
     "data": {
      "text/plain": [
       "year\n",
       "1997    1.563825\n",
       "1998    9.663885\n",
       "1999    0.421790\n",
       "2000   -0.795567\n",
       "2001   -0.304739\n",
       "2002    0.745841\n",
       "2003    1.785601\n",
       "2004   -0.158305\n",
       "2005    0.064574\n",
       "2006   -0.163097\n",
       "2007    1.347694\n",
       "2008   -0.446459\n",
       "2009    1.623245\n",
       "2010    0.338091\n",
       "2011   -0.038333\n",
       "2012    0.449278\n",
       "2013    0.589628\n",
       "2014   -0.221771\n",
       "2015    1.177831\n",
       "2016    0.109456\n",
       "2017    0.559564\n",
       "2018    0.284317\n",
       "2019    0.230277\n",
       "2020    0.762561\n",
       "2021    0.023768\n",
       "2022   -0.470660\n",
       "Name: daily_ret_1, dtype: float64"
      ]
     },
     "execution_count": 40,
     "metadata": {},
     "output_type": "execute_result"
    }
   ],
   "source": [
    "annual_ret = amzn.groupby('year')['daily_ret_1'].prod()\n",
    "annual_ret -= 1\n",
    "annual_ret"
   ]
  },
  {
   "cell_type": "markdown",
   "metadata": {
    "pycharm": {
     "name": "#%% md\n"
    }
   },
   "source": [
    "Calculating the monthly returns requires us to split the dataframe into smaller groups for each month from each year. We will have to pass a list with name of the **year** and **month** column to the `groupby()` method.\n",
    "\n",
    "For each of the groups representing a specific month from a specific year, we select the values from the **daily_ret_1** column with `['daily_ret_1]` and calculate the product with `.prod()`. \n",
    "\n",
    "Again, we must subtract 1 for the values to present the actual monthly return rate."
   ]
  },
  {
   "cell_type": "code",
   "execution_count": 41,
   "metadata": {
    "pycharm": {
     "name": "#%%\n"
    }
   },
   "outputs": [
    {
     "data": {
      "text/plain": [
       "year  month\n",
       "1997  5       -0.234045\n",
       "      6        0.027773\n",
       "      7        0.554065\n",
       "      8       -0.023916\n",
       "      9        0.855235\n",
       "                 ...   \n",
       "2022  8       -0.060615\n",
       "      9       -0.108622\n",
       "      10      -0.093451\n",
       "      11      -0.057595\n",
       "      12      -0.085871\n",
       "Name: daily_ret_1, Length: 308, dtype: float64"
      ]
     },
     "execution_count": 41,
     "metadata": {},
     "output_type": "execute_result"
    }
   ],
   "source": [
    "monthly_ret = amzn.groupby(['year', 'month'])['daily_ret_1'].prod()\n",
    "monthly_ret -= 1\n",
    "monthly_ret"
   ]
  },
  {
   "cell_type": "markdown",
   "metadata": {
    "pycharm": {
     "name": "#%% md\n"
    }
   },
   "source": [
    "&nbsp;\n",
    "\n",
    "### Task 4: Calculating annual and monthly return rates\n",
    "\n",
    "It is now your turn to carry out the same steps to calculate the annual and monthly return rates for Netflix.\n",
    "\n",
    "1. Create a new column **year** and **month** for the year and month by extracting that information from the index column.\n",
    "2. Create a new column **daily_ret_1** to add 1 to the daily returns\n",
    "3. Calculate the annual returns.\n",
    "4. Calculate the monthly returns.\n"
   ]
  },
  {
   "cell_type": "code",
   "execution_count": null,
   "metadata": {
    "pycharm": {
     "name": "#%%\n"
    }
   },
   "outputs": [],
   "source": []
  },
  {
   "cell_type": "markdown",
   "metadata": {
    "pycharm": {
     "name": "#%% md\n"
    }
   },
   "source": [
    "<br>\n",
    "\n",
    "---\n",
    "\n",
    "<br>"
   ]
  },
  {
   "attachments": {},
   "cell_type": "markdown",
   "metadata": {
    "pycharm": {
     "name": "#%% md\n"
    }
   },
   "source": [
    "<div  style=\"color:#1b1b1b; background-color:#f2f2f2; padding:30px; border: 0px; -moz-border-radius: 10px; -webkit-border-radius: 10px;\">\n",
    "    \n",
    "### Final task: Please give us your feedback!\n",
    "\n",
    "This is the first time that we are delivering our trainings online. In order to adapt our training to your needs and provide the most valuable learning experience for you, we depend on your feedack.\n",
    "\n",
    "We would be grateful if you could take **1 min** before the end of the workshop to get your feedback!\n",
    "\n",
    "    \n",
    "[Click here to open the survey!](<https://lse.eu.qualtrics.com/jfe/form/SV_ewXuHQ1nRnurTdY?coursename=Python for Accounting 2&topic=Python&cohort=LT21&link=https://1drv.ms/u/s!AvDXAngXb9tTvAfLYzBQKDHOrfmn?e=Ryt1Kz&prog=DS&version=22-23&link2=>)"
   ]
  }
 ],
 "metadata": {
  "kernelspec": {
   "display_name": "sklearn",
   "language": "python",
   "name": "python3"
  },
  "language_info": {
   "codemirror_mode": {
    "name": "ipython",
    "version": 3
   },
   "file_extension": ".py",
   "mimetype": "text/x-python",
   "name": "python",
   "nbconvert_exporter": "python",
   "pygments_lexer": "ipython3",
   "version": "3.10.9"
  },
  "vscode": {
   "interpreter": {
    "hash": "2dd13bd0ed3eae5f8ffbec9bca34097be622baa452204de76256e234b77f85de"
   }
  }
 },
 "nbformat": 4,
 "nbformat_minor": 4
}