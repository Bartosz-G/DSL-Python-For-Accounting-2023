{
 "cells": [
  {
   "attachments": {},
   "cell_type": "markdown",
   "metadata": {
    "pycharm": {
     "name": "#%% md\n"
    }
   },
   "source": [
    "<div style=\"background-color: #323031; padding:30px; color:#ffffff; border: 0px; -moz-border-radius: 10px; -webkit-border-radius: 10px;\">\n",
    "\n",
    "# Python for Accounting - Session 1\n",
    "\n",
    "&nbsp;\n",
    "\n",
    "Welcome to the Python for Accounting practical sessions. \n",
    "\n",
    "This series of practical sessions consists of three separate sessions, that will teach you to work with stock data and financial documents in Python. \n",
    "\n",
    "In the 1st session, we will practice with pandas before working with stock price data in the 2nd and 3rd session. You will work with the ebay-kleinanzeigen data from the guided project on Dataquest. Please follow the exercises in this notebook and not on Dataquest as we modified the tasks."
   ]
  },
  {
   "attachments": {},
   "cell_type": "markdown",
   "metadata": {
    "pycharm": {
     "name": "#%% md\n"
    }
   },
   "source": [
    "<div  style=\"color:#1b1b1b; padding:30px; background-color:#f2f2f2; border: 0px; -moz-border-radius: 10px; -webkit-border-radius: 10px;\">\n",
    "    \n",
    "### What you will learn in this session\n",
    "\n",
    "This workshop will teach you to:\n",
    "- import datasets with non-UTF encoding\n",
    "- rename columns\n",
    "- explore column values\n",
    "- remove outliers/invalid values\n",
    "- calculate aggregate values for different subsets\n",
    "\n",
    "<b>What to do when getting stuck</b>:\n",
    "    <ol>\n",
    "        <li>Ask the trainer if you struggle to find a solution.</li>\n",
    "        <li>Search online:</li>\n",
    "        <ol>\n",
    "            <li>The answer box on the top of Google's results page</li>\n",
    "            <li><a href=\"https://www.stackoverflow.com\">stackoverflow.com</a> (task-specific solutions)</li>\n",
    "            <li><a href=\"https://www.w3schools.com\">w3schools.com</a> (basic python questions)</li>\n",
    "            <li><a href=\"https://www.realpython.com\">realpython.com</a> (topic-based tutorials)</li>\n",
    "        </ol>\n",
    "    </ol>\n",
    "\n",
    "<br>\n",
    "\n",
    "### Using your own laptop\n",
    "\n",
    "1. Open the Anaconda prompt. Open the search bar (Windows-key or Cmd+Space) and type in Anaconda prompt.\n",
    "2. Type jupyter lab and hit Enter.\n",
    "3. In the jupyter lab app, select the folder from the menu on the left side where you downloaded the notebook.\n",
    "4. Double-click on the notebook to open it.\n",
    "\n",
    "If you are using your own laptop and haven't been able to install Anaconda, you will have to use Google Colab (see below).\n",
    "\n",
    "### Using Google Colab\n",
    "\n",
    "1. Open the [google colab](https://colab.research.google.com/) website.\n",
    "2. Select Upload and select the notebook from your harddrive.\n",
    "\n",
    "\n",
    "### Opening the jupyter notebook\n",
    "\n",
    "To open the jupyter notebook, you will need to launch the **jupyter lab app**.\n",
    "\n",
    "1. Open the Anaconda prompt (Click the Windows key and type in Anaconda Prompt and hit Enter).\n",
    "2. Switch to the H-drive by typing in H: and hit Enter.\n",
    "3. Type in jupyter lab and hit Enter.\n",
    "4. In the jupyter lab app, select the folder from the menu on the left side where you downloaded the notebook.\n",
    "5. Double-click on the notebook to open it.\n",
    "\n",
    "\n"
   ]
  },
  {
   "attachments": {},
   "cell_type": "markdown",
   "metadata": {
    "pycharm": {
     "name": "#%% md\n"
    }
   },
   "source": [
    "<img src=\"https://www.volkswagenag.com/presence/stories/2019/10/die-glorreichen-sieben/Golf-2-front.jpg\">"
   ]
  },
  {
   "attachments": {},
   "cell_type": "markdown",
   "metadata": {
    "pycharm": {
     "name": "#%% md\n"
    }
   },
   "source": [
    "# Introduction to project and dataset\n",
    "\n",
    "In this guided project, we'll work with a dataset of used cars from eBay Kleinanzeigen, a classified German version of Ebay similar to the British website Gumtree.\n",
    "\n",
    "The dataset was originally scraped and uploaded to Kaggle by user orgesleka. The original dataset isn't available on Kaggle anymore, but you can find it [here](https://raw.githubusercontent.com/mwiemers/datasets/main/autos.csv).\n",
    "\n",
    "This dataset is a modification of the [original dataset](https://data.world/data-society/used-cars-data), which is larger and tidier.\n",
    "\n",
    "The version we will be working with has 50,000 data points from the full dataset and is less tidy to more closely resemble what you would expect from a scraped dataset."
   ]
  },
  {
   "attachments": {},
   "cell_type": "markdown",
   "metadata": {
    "pycharm": {
     "name": "#%% md\n"
    }
   },
   "source": [
    "<br>\n",
    "\n",
    "\n",
    "---\n",
    "\n",
    "\n",
    "<br>"
   ]
  },
  {
   "attachments": {},
   "cell_type": "markdown",
   "metadata": {
    "pycharm": {
     "name": "#%% md\n"
    }
   },
   "source": [
    "### Task 1: Import data\n",
    "\n",
    "1. Import the pandas and NumPy libraries\n",
    "2. Read the autos.csv CSV file into pandas using the provided `url`. Assign it to the variable name autos. The file is ~ 50MB and might take a few seconds to load.\n",
    "3. Calculate the number of missing values per column. You can do this using the `.isnull()` method in combindation with the `.mean()` method. First use the `.isnull()` on the `autos` dataframe and observe the output. How can you apply the mean method to get the percentage of missings per column? "
   ]
  },
  {
   "cell_type": "code",
   "execution_count": 2,
   "metadata": {
    "pycharm": {
     "name": "#%%\n"
    }
   },
   "outputs": [],
   "source": [
    "\n",
    "url = \"https://drive.google.com/uc?export=download&id=1-3h2uJoPTfZc5d9_3clY_A8RZw46jIQ6\"\n"
   ]
  },
  {
   "attachments": {},
   "cell_type": "markdown",
   "metadata": {
    "pycharm": {
     "name": "#%% md\n"
    }
   },
   "source": [
    "### Task 2: Convert columns to snake case\n",
    "\n",
    "The column names are in camel case format, as in `'vehicleType'`. This name in snake case format would be `'vehicle_type'`. Snake case is considered a tidier format and used more commonly. \n",
    "\n",
    "Let us change the format of the column names from camel to snake case!\n",
    "\n",
    "1. Use the `.rename()` method to rename the following columns:\n",
    "    - `yearOfRegistration` to `registration_year`\n",
    "    - `monthOfRegistration` to `registration_month`\n",
    "    - `notRepairedDamage` to `unrepaired_damage`\n",
    "    - `dateCreated` to ad_cr`eated  \n",
    "\n",
    "    The `.rename()` method will return a new version of the dataframe with the changed column names. You have to re-assign the `autos` dataframe to that version to overwrite it.\n",
    "2. Use the provided function `camel2snake()` to change the remaining columns to from camel to snake case. Overwrite the column names of the `autos` dataframe with the new colum names. You can access and overwrite the colum names of a dataframe with the `.columns` attribute as in `autos.columns`."
   ]
  },
  {
   "attachments": {},
   "cell_type": "markdown",
   "metadata": {
    "pycharm": {
     "name": "#%% md\n"
    }
   },
   "source": [
    "<br>"
   ]
  },
  {
   "attachments": {},
   "cell_type": "markdown",
   "metadata": {
    "pycharm": {
     "name": "#%% md\n"
    }
   },
   "source": [
    "<details>\n",
    "    <summary><b>Click here</b> to show/hide a hint about how to use the camel2snake() function.</summary>\n",
    "    <br>\n",
    "    You will have to use a for loop to loop over the existing column names from the autos dataframe and then apply the camel2snake() function to the selected column name. \n",
    "    \n",
    "You will need a new list to add the transformed column names to. Initialize this list before the for loop and then add the transformed column names inside the for loop.\n",
    "</details>\n",
    "\n"
   ]
  },
  {
   "attachments": {},
   "cell_type": "markdown",
   "metadata": {
    "pycharm": {
     "name": "#%% md\n"
    }
   },
   "source": [
    "<br>"
   ]
  },
  {
   "cell_type": "code",
   "execution_count": null,
   "metadata": {
    "pycharm": {
     "name": "#%%\n"
    }
   },
   "outputs": [],
   "source": []
  },
  {
   "cell_type": "code",
   "execution_count": 1,
   "metadata": {
    "pycharm": {
     "name": "#%%\n"
    }
   },
   "outputs": [],
   "source": [
    "# using a function\n",
    "def camel2snake(col):\n",
    "    new_col = ''\n",
    "    for i in range(len(col)):\n",
    "        new_col += col[i].lower()\n",
    "        if i < len(col)-1:\n",
    "            if col[i].islower() and col[i+1].isupper():\n",
    "                new_col += '_'\n",
    "    return new_col\n",
    "\n",
    "new_columns = []\n",
    "\n"
   ]
  },
  {
   "attachments": {},
   "cell_type": "markdown",
   "metadata": {
    "pycharm": {
     "name": "#%% md\n"
    }
   },
   "source": [
    "### Task 3: Explore and clean columns\n",
    "\n",
    "1. Explore the column values with the `.describe()` method.\n",
    "2. What do you notice?\n",
    "    - For categorical columns like `name`, `seller`, `offer_type` etc., pay attention to the number of unique values (`unique` row) and the frequency (`freq` row) of the most frequent (`top` row) value.\n",
    "    - For numerical columns like `price`, `power_ps` etc, pay attention to the distribution of the values as indicated by the `min`, `max` and `mean` rows.\n",
    "3. For categorical columns you can also use the `.value_counts()` method to better understand the distinct values and their frequency."
   ]
  },
  {
   "cell_type": "markdown",
   "metadata": {
    "pycharm": {
     "name": "#%% md\n"
    }
   },
   "source": [
    "<br>"
   ]
  },
  {
   "attachments": {},
   "cell_type": "markdown",
   "metadata": {
    "pycharm": {
     "name": "#%% md\n"
    }
   },
   "source": [
    "<details>\n",
    "    <summary><b>Click here</b> to continue once you identified all problematic columns.</summary>\n",
    "    <br>\n",
    "    \n",
    "Columns that can be dropped because of singular value:\n",
    "- seller: 2nd most frequent value occurs only twice\n",
    "- offer_type: 2nd most frequent value occurs only 8 times\n",
    "- nr_of_pictures: all 0\n",
    "\n",
    "Columns that need more investigation:\n",
    "- name (additional characteristics are encoded here (air con, condition, tuning, leather seats, etc)\n",
    "- price is string and has illegal characters for numerical type (€ and comma)\n",
    "- year_of_registration has invalid (out-of-range) values\n",
    "- odometer is string and has illegal characters for numerical type (km and comma)\n",
    "- power_ps has invalid (out-of-range) values\n",
    "- month_of_registration has values from 0-12, month of registration is probably optional and 0 means no value provided. Zeros should be replaced with `np.nan`.\n",
    "\n",
    "The next step will be to clean the price and odometer columns. \n",
    "- Further inspect the price and odometer column values to identify all illegal characters, i.e. characters that are not numbers.\n",
    "- Remove those characters from the column using the str.replace() method and then convert the column to the integer type.\n",
    "</details>\n",
    "\n"
   ]
  },
  {
   "cell_type": "markdown",
   "metadata": {
    "pycharm": {
     "name": "#%% md\n"
    }
   },
   "source": [
    "<br>"
   ]
  },
  {
   "cell_type": "code",
   "execution_count": null,
   "metadata": {
    "pycharm": {
     "name": "#%%\n"
    }
   },
   "outputs": [],
   "source": []
  },
  {
   "attachments": {},
   "cell_type": "markdown",
   "metadata": {
    "pycharm": {
     "name": "#%% md\n"
    }
   },
   "source": [
    "<br>\n",
    "\n",
    "<br>\n",
    "\n",
    "\n",
    "### Task 4: Removing outliers from price column\n",
    "\n",
    "Use the example code below which chains the `value_counts()`, `sort_values()` and `head()` methods to get the frequencies for the lowest 10 values from the `price` column. \n",
    "- Do any of these values seem invalid or extreme and do you think they should be removed?\n",
    "- How can you adjust the code to get the highest 10 values and their frequencies? Are there any values that should be removed?\n"
   ]
  },
  {
   "attachments": {},
   "cell_type": "markdown",
   "metadata": {
    "pycharm": {
     "name": "#%% md\n"
    }
   },
   "source": [
    "<details>\n",
    "    <summary><b>Click here</b> once you think you have identfied values that should be removed.</summary>\n",
    "    <br>\n",
    "\n",
    "<b>lowest prices</b><br>\n",
    "Comparing the odometer, year of registration and ps for cars with a 0/1 price, there is no systematic difference most likely these values are invalid instead of people giving away their car for free. The same might be true for prices larger than 1 but it is difficult to determine a cutoff point where prices are valid.\n",
    "\n",
    "<b>highest prices</b><br>\n",
    "Prices seem to increase continuously until 300k. Above that value, prices go up in steps. The fact that the prices are no longer continuous is not necessarily an indication of invalid values, but we have to define a cutoff, since lots of the very high prices are invalid. We could also filter out cars above a certain price manually as there are only very few.\n",
    "\n",
    "</details>\n",
    "\n"
   ]
  },
  {
   "cell_type": "code",
   "execution_count": null,
   "metadata": {
    "pycharm": {
     "name": "#%%\n"
    }
   },
   "outputs": [],
   "source": []
  },
  {
   "attachments": {},
   "cell_type": "markdown",
   "metadata": {
    "pycharm": {
     "name": "#%% md\n"
    }
   },
   "source": [
    "<br>\n",
    "\n",
    "<br>\n",
    "\n",
    "### Task 5: Removing outliers from odometer, power_ps and registration_year column\n",
    "\n",
    "Use the same techniques as applied in task 4 to assess outliers for the `odometer`, `power_ps` and `registration_year` column. \n",
    "\n",
    "Do any of these values seem invalid or extreme and do you think they should be removed?\n",
    "\n",
    "To infer the latest possible value for `registration_year`, we need to get the most recent value from the `date_created` column. \n",
    "\n",
    "You can convert the `date_created` column to datetime, with the `pd.to_datetime()` function and then get the maximum value.\n",
    "    \n"
   ]
  },
  {
   "attachments": {},
   "cell_type": "markdown",
   "metadata": {
    "pycharm": {
     "name": "#%% md\n"
    }
   },
   "source": [
    "<br>\n"
   ]
  },
  {
   "attachments": {},
   "cell_type": "markdown",
   "metadata": {
    "pycharm": {
     "name": "#%% md\n"
    }
   },
   "source": [
    "<details>\n",
    "    <summary><b>Click here</b> if you have identified values that should be removed from the odometer, power_ps and registration_year columns.</summary>\n",
    "    <br>\n",
    "<b>odometer</b><br>\n",
    "There are no extreme values. Users selected values from a dropdown menu.\n",
    "\n",
    "<b>power_ps</b><br>\n",
    "The 0 values should be removed. Looking at the distribution of values, cars with less than 40 hp are very rare and there will be many offers that are either parts, people looking for a car, offering swaps etc.\n",
    "\n",
    "<b>registration_year</b><br>\n",
    "Looking at the date_created column we know that the ads were scraped in 2016, which means that cars with a later registration rate should be removed.  \n",
    "Looking at the oldest values from registration_year, it seems that values start to become continuous from around 1910/1930. \n",
    "\n",
    "</details>\n",
    "\n"
   ]
  },
  {
   "cell_type": "markdown",
   "metadata": {
    "pycharm": {
     "name": "#%% md\n"
    }
   },
   "source": [
    "<br>\n"
   ]
  },
  {
   "cell_type": "code",
   "execution_count": null,
   "metadata": {
    "pycharm": {
     "name": "#%%\n"
    }
   },
   "outputs": [],
   "source": []
  },
  {
   "attachments": {},
   "cell_type": "markdown",
   "metadata": {
    "pycharm": {
     "name": "#%% md\n"
    }
   },
   "source": [
    "<br>\n",
    "\n",
    "<br>\n",
    "\n",
    "### Task 6 - Exploring price by brand\n",
    "1. Explore the unique values in the brand column, and decide on which brands you want to aggregate by.\n",
    "    - You might want to select the top 20, or you might want to select those that have over a certain percentage of the total values (e.g. > 5%).\n",
    "    - Remember that `Series.value_counts()` produces a series with index labels, so you can use Series.index attribute to access the labels, should you wish.\n",
    "2. Create an empty dictionary to hold your aggregate data.\n",
    "    - Loop over your selected brands, and assign the mean price to the dictionary, with the brand name as the key.\n",
    "    - Print your dictionary of aggregate data, and write a paragraph analyzing the results.\n",
    "    - You can easily convert the dictionary to a pandas Series with the `pd.Series()` constructor. Convert the dictionary to a pandas series and display the series.\n",
    "\n",
    "<br>\n"
   ]
  },
  {
   "cell_type": "code",
   "execution_count": null,
   "metadata": {
    "pycharm": {
     "name": "#%%\n"
    }
   },
   "outputs": [],
   "source": []
  },
  {
   "attachments": {},
   "cell_type": "markdown",
   "metadata": {
    "pycharm": {
     "name": "#%% md\n"
    }
   },
   "source": [
    "<br>\n",
    "\n",
    "### Task 7 - Exploring mileage\n",
    "\n",
    "Let us apply the same steps from the previous task to create a dataframe with the mean price and mileage for each brand.\n",
    "\n",
    "1. Create two dictionaries for the mileage and price\n",
    "2. Loop over the brands names, filter the data for each brand, calculate the mean price and milage and add means to the dictionaries.\n",
    "3. Convert the dictionaries to pandas series\n",
    "4. Create a dataframe using the series for the mean prices\n",
    "5. Add a new column using the mean mileage values"
   ]
  },
  {
   "cell_type": "code",
   "execution_count": null,
   "metadata": {
    "pycharm": {
     "name": "#%%\n"
    }
   },
   "outputs": [],
   "source": []
  },
  {
   "cell_type": "markdown",
   "metadata": {
    "pycharm": {
     "name": "#%% md\n"
    }
   },
   "source": [
    "<br>\n",
    "\n",
    "---\n",
    "\n",
    "<br>"
   ]
  },
  {
   "attachments": {},
   "cell_type": "markdown",
   "metadata": {
    "pycharm": {
     "name": "#%% md\n"
    }
   },
   "source": [
    "<div  style=\"color:#1b1b1b; background-color:#f2f2f2; padding:30px; border: 0px; -moz-border-radius: 10px; -webkit-border-radius: 10px;\">\n",
    "    \n",
    "### Final task: Please give us your feedback!\n",
    "\n",
    "This is the first time that we are delivering our trainings online. In order to adapt our training to your needs and provide the most valuable learning experience for you, we depend on your feedack.\n",
    "\n",
    "We would be grateful if you could take **1 min** before the end of the workshop to get your feedback!\n",
    "\n",
    "    \n",
    "[Click here to open the survey!](<https://lse.eu.qualtrics.com/jfe/form/SV_ewXuHQ1nRnurTdY?coursename=Python for Accounting 2&topic=Python&link=https://lsecloud-my.sharepoint.com/:u:/g/personal/m_wiemers_lse_ac_uk/EetdXR0a_qBMo6zrT7myquIBrXdGZbtHgZNsQFvahgK-nA?e=MhrWy1&version=22-23&link2=>)"
   ]
  }
 ],
 "metadata": {
  "kernelspec": {
   "display_name": "sklearn",
   "language": "python",
   "name": "python3"
  },
  "language_info": {
   "codemirror_mode": {
    "name": "ipython",
    "version": 3
   },
   "file_extension": ".py",
   "mimetype": "text/x-python",
   "name": "python",
   "nbconvert_exporter": "python",
   "pygments_lexer": "ipython3",
   "version": "3.10.9"
  },
  "vscode": {
   "interpreter": {
    "hash": "2dd13bd0ed3eae5f8ffbec9bca34097be622baa452204de76256e234b77f85de"
   }
  }
 },
 "nbformat": 4,
 "nbformat_minor": 4
}