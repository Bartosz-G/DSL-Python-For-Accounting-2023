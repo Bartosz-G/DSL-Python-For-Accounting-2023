{
 "cells": [
  {
   "attachments": {},
   "cell_type": "markdown",
   "metadata": {
    "pycharm": {
     "name": "#%% md\n"
    }
   },
   "source": [
    "<div style=\"background-color: #323031; padding:30px; color:#ffffff; border: 0px; -moz-border-radius: 10px; -webkit-border-radius: 10px;\">\n",
    "\n",
    "# Python for Accounting - Session 1\n",
    "\n",
    "&nbsp;\n",
    "\n",
    "Welcome to the Python for Accounting practical sessions. \n",
    "\n",
    "This series of practical sessions consists of three separate sessions, that will teach you to work with stock data and financial documents in Python. \n",
    "\n",
    "In the 1st session, we will practice with pandas before working with stock price data in the 2nd and 3rd session. You will work with the ebay-kleinanzeigen data from the guided project on Dataquest. Please follow the exercises in this notebook and not on Dataquest as we modified the tasks."
   ]
  },
  {
   "attachments": {},
   "cell_type": "markdown",
   "metadata": {
    "pycharm": {
     "name": "#%% md\n"
    }
   },
   "source": [
    "<div  style=\"color:#1b1b1b; padding:30px; background-color:#f2f2f2; border: 0px; -moz-border-radius: 10px; -webkit-border-radius: 10px;\">\n",
    "    \n",
    "### What you will learn in this session\n",
    "\n",
    "This workshop will teach you to:\n",
    "- import datasets with non-UTF encoding\n",
    "- rename columns\n",
    "- explore column values\n",
    "- remove outliers/invalid values\n",
    "- calculate aggregate values for different subsets\n",
    "\n",
    "<b>What to do when getting stuck</b>:\n",
    "    <ol>\n",
    "        <li>Ask the trainer if you struggle to find a solution.</li>\n",
    "        <li>Search online:</li>\n",
    "        <ol>\n",
    "            <li>The answer box on the top of Google's results page</li>\n",
    "            <li><a href=\"https://www.stackoverflow.com\">stackoverflow.com</a> (task-specific solutions)</li>\n",
    "            <li><a href=\"https://www.w3schools.com\">w3schools.com</a> (basic python questions)</li>\n",
    "            <li><a href=\"https://www.realpython.com\">realpython.com</a> (topic-based tutorials)</li>\n",
    "        </ol>\n",
    "    </ol>\n",
    "\n",
    "<br>\n",
    "\n",
    "### Using your own laptop\n",
    "\n",
    "1. Open the Anaconda prompt. Open the search bar (Windows-key or Cmd+Space) and type in Anaconda prompt.\n",
    "2. Type jupyter lab and hit Enter.\n",
    "3. In the jupyter lab app, select the folder from the menu on the left side where you downloaded the notebook.\n",
    "4. Double-click on the notebook to open it.\n",
    "\n",
    "If you are using your own laptop and haven't been able to install Anaconda, you will have to use Google Colab (see below).\n",
    "\n",
    "### Using Google Colab\n",
    "\n",
    "1. Open the [google colab](https://colab.research.google.com/) website.\n",
    "2. Select Upload and select the notebook from your harddrive.\n",
    "\n",
    "\n",
    "### Opening the jupyter notebook\n",
    "\n",
    "To open the jupyter notebook, you will need to launch the **jupyter lab app**.\n",
    "\n",
    "1. Open the Anaconda prompt (Click the Windows key and type in Anaconda Prompt and hit Enter).\n",
    "2. Switch to the H-drive by typing in H: and hit Enter.\n",
    "3. Type in jupyter lab and hit Enter.\n",
    "4. In the jupyter lab app, select the folder from the menu on the left side where you downloaded the notebook.\n",
    "5. Double-click on the notebook to open it.\n",
    "\n",
    "\n"
   ]
  },
  {
   "attachments": {},
   "cell_type": "markdown",
   "metadata": {
    "pycharm": {
     "name": "#%% md\n"
    }
   },
   "source": [
    "<img src=\"https://www.volkswagenag.com/presence/stories/2019/10/die-glorreichen-sieben/Golf-2-front.jpg\">"
   ]
  },
  {
   "attachments": {},
   "cell_type": "markdown",
   "metadata": {
    "pycharm": {
     "name": "#%% md\n"
    }
   },
   "source": [
    "# Introduction to project and dataset\n",
    "\n",
    "In this guided project, we'll work with a dataset of used cars from eBay Kleinanzeigen, a classified German version of Ebay similar to the British website Gumtree.\n",
    "\n",
    "The dataset was originally scraped and uploaded to Kaggle by user orgesleka. The original dataset isn't available on Kaggle anymore, but you can find it [here](https://raw.githubusercontent.com/mwiemers/datasets/main/autos.csv).\n",
    "\n",
    "This dataset is a modification of the [original dataset](https://data.world/data-society/used-cars-data), which is larger and tidier.\n",
    "\n",
    "The version we will be working with has 50,000 data points from the full dataset and is less tidy to more closely resemble what you would expect from a scraped dataset."
   ]
  },
  {
   "attachments": {},
   "cell_type": "markdown",
   "metadata": {
    "pycharm": {
     "name": "#%% md\n"
    }
   },
   "source": [
    "<br>\n",
    "\n",
    "\n",
    "---\n",
    "\n",
    "\n",
    "<br>"
   ]
  },
  {
   "attachments": {},
   "cell_type": "markdown",
   "metadata": {
    "pycharm": {
     "name": "#%% md\n"
    }
   },
   "source": [
    "### Task 1: Import data\n",
    "\n",
    "1. Import the pandas and NumPy libraries\n",
    "2. Read the autos.csv CSV file into pandas using the provided `url`. Assign it to the variable name autos. The file is ~ 50MB and might take a few seconds to load.\n",
    "3. Calculate the number of missing values per column. You can do this using the `.isnull()` method in combindation with the `.mean()` method. First use the `.isnull()` on the `autos` dataframe and observe the output. How can you apply the mean method to get the percentage of missings per column? "
   ]
  },
  {
   "cell_type": "code",
   "execution_count": 1,
   "metadata": {
    "pycharm": {
     "name": "#%%\n"
    }
   },
   "outputs": [
    {
     "data": {
      "text/plain": "           dateCrawled                                               name  \\\n0  2016-03-28 19:58:25       Skoda_Octavia_1.9_TDI_Combi_Laurin_&_Klement   \n1  2016-03-15 19:49:03                                Opel_Agila_1.2_16_V   \n2  2016-03-29 15:48:15       Fiat_Stilo_Abarth_170_PS__20v_Vollaustattung   \n3  2016-03-19 23:57:02  Renault_Megane_1.9_dCi_FAP_Coupe_Cabriolet_NAV...   \n4  2016-03-23 13:50:13      Mercedes_W_203_Sportcoupe_mit_Vollausstattung   \n\n    seller offerType   price   abtest  vehicleType  yearOfRegistration  \\\n0  private   Angebot  €2,250  control       estate                2001   \n1  private   Angebot    €550  control    hatchback                2001   \n2  private   Angebot  €3,000  control        coupe                2004   \n3  private   Angebot  €7,199  control  convertible                2007   \n4  private   Angebot  €4,390     test        coupe                2001   \n\n     gearbox  powerPS    model   odometer  monthOfRegistration fuelType  \\\n0     manual      110  octavia  150,000km                    9   diesel   \n1     manual       75    agila  150,000km                    9   petrol   \n2  automatic      170    stilo  150,000km                    3   petrol   \n3     manual      131   megane   90,000km                   11   diesel   \n4  automatic      170       cl  150,000km                    3   petrol   \n\n           brand notRepairedDamage          dateCreated  nrOfPictures  \\\n0          skoda                no  2016-03-28 00:00:00             0   \n1           opel               yes  2016-03-15 00:00:00             0   \n2           fiat                no  2016-03-29 00:00:00             0   \n3        renault                no  2016-03-19 00:00:00             0   \n4  mercedes_benz                no  2016-03-23 00:00:00             0   \n\n   postalCode             lastSeen  \n0       90441  2016-03-28 20:41:25  \n1       26683  2016-03-15 19:49:03  \n2       30657  2016-04-06 01:44:40  \n3       47877  2016-04-06 01:17:31  \n4       47199  2016-03-30 23:18:39  ",
      "text/html": "<div>\n<style scoped>\n    .dataframe tbody tr th:only-of-type {\n        vertical-align: middle;\n    }\n\n    .dataframe tbody tr th {\n        vertical-align: top;\n    }\n\n    .dataframe thead th {\n        text-align: right;\n    }\n</style>\n<table border=\"1\" class=\"dataframe\">\n  <thead>\n    <tr style=\"text-align: right;\">\n      <th></th>\n      <th>dateCrawled</th>\n      <th>name</th>\n      <th>seller</th>\n      <th>offerType</th>\n      <th>price</th>\n      <th>abtest</th>\n      <th>vehicleType</th>\n      <th>yearOfRegistration</th>\n      <th>gearbox</th>\n      <th>powerPS</th>\n      <th>model</th>\n      <th>odometer</th>\n      <th>monthOfRegistration</th>\n      <th>fuelType</th>\n      <th>brand</th>\n      <th>notRepairedDamage</th>\n      <th>dateCreated</th>\n      <th>nrOfPictures</th>\n      <th>postalCode</th>\n      <th>lastSeen</th>\n    </tr>\n  </thead>\n  <tbody>\n    <tr>\n      <th>0</th>\n      <td>2016-03-28 19:58:25</td>\n      <td>Skoda_Octavia_1.9_TDI_Combi_Laurin_&amp;_Klement</td>\n      <td>private</td>\n      <td>Angebot</td>\n      <td>€2,250</td>\n      <td>control</td>\n      <td>estate</td>\n      <td>2001</td>\n      <td>manual</td>\n      <td>110</td>\n      <td>octavia</td>\n      <td>150,000km</td>\n      <td>9</td>\n      <td>diesel</td>\n      <td>skoda</td>\n      <td>no</td>\n      <td>2016-03-28 00:00:00</td>\n      <td>0</td>\n      <td>90441</td>\n      <td>2016-03-28 20:41:25</td>\n    </tr>\n    <tr>\n      <th>1</th>\n      <td>2016-03-15 19:49:03</td>\n      <td>Opel_Agila_1.2_16_V</td>\n      <td>private</td>\n      <td>Angebot</td>\n      <td>€550</td>\n      <td>control</td>\n      <td>hatchback</td>\n      <td>2001</td>\n      <td>manual</td>\n      <td>75</td>\n      <td>agila</td>\n      <td>150,000km</td>\n      <td>9</td>\n      <td>petrol</td>\n      <td>opel</td>\n      <td>yes</td>\n      <td>2016-03-15 00:00:00</td>\n      <td>0</td>\n      <td>26683</td>\n      <td>2016-03-15 19:49:03</td>\n    </tr>\n    <tr>\n      <th>2</th>\n      <td>2016-03-29 15:48:15</td>\n      <td>Fiat_Stilo_Abarth_170_PS__20v_Vollaustattung</td>\n      <td>private</td>\n      <td>Angebot</td>\n      <td>€3,000</td>\n      <td>control</td>\n      <td>coupe</td>\n      <td>2004</td>\n      <td>automatic</td>\n      <td>170</td>\n      <td>stilo</td>\n      <td>150,000km</td>\n      <td>3</td>\n      <td>petrol</td>\n      <td>fiat</td>\n      <td>no</td>\n      <td>2016-03-29 00:00:00</td>\n      <td>0</td>\n      <td>30657</td>\n      <td>2016-04-06 01:44:40</td>\n    </tr>\n    <tr>\n      <th>3</th>\n      <td>2016-03-19 23:57:02</td>\n      <td>Renault_Megane_1.9_dCi_FAP_Coupe_Cabriolet_NAV...</td>\n      <td>private</td>\n      <td>Angebot</td>\n      <td>€7,199</td>\n      <td>control</td>\n      <td>convertible</td>\n      <td>2007</td>\n      <td>manual</td>\n      <td>131</td>\n      <td>megane</td>\n      <td>90,000km</td>\n      <td>11</td>\n      <td>diesel</td>\n      <td>renault</td>\n      <td>no</td>\n      <td>2016-03-19 00:00:00</td>\n      <td>0</td>\n      <td>47877</td>\n      <td>2016-04-06 01:17:31</td>\n    </tr>\n    <tr>\n      <th>4</th>\n      <td>2016-03-23 13:50:13</td>\n      <td>Mercedes_W_203_Sportcoupe_mit_Vollausstattung</td>\n      <td>private</td>\n      <td>Angebot</td>\n      <td>€4,390</td>\n      <td>test</td>\n      <td>coupe</td>\n      <td>2001</td>\n      <td>automatic</td>\n      <td>170</td>\n      <td>cl</td>\n      <td>150,000km</td>\n      <td>3</td>\n      <td>petrol</td>\n      <td>mercedes_benz</td>\n      <td>no</td>\n      <td>2016-03-23 00:00:00</td>\n      <td>0</td>\n      <td>47199</td>\n      <td>2016-03-30 23:18:39</td>\n    </tr>\n  </tbody>\n</table>\n</div>"
     },
     "execution_count": 1,
     "metadata": {},
     "output_type": "execute_result"
    }
   ],
   "source": [
    "import pandas as pd\n",
    "import numpy as np\n",
    "\n",
    "url = \"https://drive.google.com/uc?export=download&id=1-3h2uJoPTfZc5d9_3clY_A8RZw46jIQ6\"\n",
    "\n",
    "autos = pd.read_csv(url)\n",
    "\n",
    "autos.head()"
   ]
  },
  {
   "cell_type": "code",
   "execution_count": null,
   "outputs": [],
   "source": [],
   "metadata": {
    "collapsed": false,
    "pycharm": {
     "name": "#%%\n",
     "is_executing": true
    }
   }
  },
  {
   "cell_type": "code",
   "execution_count": 3,
   "metadata": {
    "pycharm": {
     "name": "#%%\n"
    }
   },
   "outputs": [
    {
     "data": {
      "text/plain": [
       "vehicleType          10.1980\n",
       "gearbox               5.4300\n",
       "model                 5.5256\n",
       "fuelType              8.9360\n",
       "notRepairedDamage    19.3364\n",
       "dtype: float64"
      ]
     },
     "execution_count": 3,
     "metadata": {},
     "output_type": "execute_result"
    }
   ],
   "source": [
    "nas = autos.isnull().mean() * 100\n",
    "nas[nas > 0]"
   ]
  },
  {
   "attachments": {},
   "cell_type": "markdown",
   "metadata": {
    "pycharm": {
     "name": "#%% md\n"
    }
   },
   "source": [
    "### Task 2: Convert columns to snake case\n",
    "\n",
    "The column names are in camel case format, as in `'vehicleType'`. This name in snake case format would be `'vehicle_type'`. Snake case is considered a tidier format and used more commonly. \n",
    "\n",
    "Let us change the format of the column names from camel to snake case!\n",
    "\n",
    "1. Use the `.rename()` method to rename the following columns:\n",
    "    - `yearOfRegistration` to `registration_year`\n",
    "    - `monthOfRegistration` to `registration_month`\n",
    "    - `notRepairedDamage` to `unrepaired_damage`\n",
    "    - `dateCreated` to ad_cr`eated  \n",
    "\n",
    "    The `.rename()` method will return a new version of the dataframe with the changed column names. You have to re-assign the `autos` dataframe to that version to overwrite it.\n",
    "2. Use the provided function `camel2snake()` to change the remaining columns to from camel to snake case. Overwrite the column names of the `autos` dataframe with the new colum names. You can access and overwrite the colum names of a dataframe with the `.columns` attribute as in `autos.columns`."
   ]
  },
  {
   "attachments": {},
   "cell_type": "markdown",
   "metadata": {
    "pycharm": {
     "name": "#%% md\n"
    }
   },
   "source": [
    "<br>"
   ]
  },
  {
   "attachments": {},
   "cell_type": "markdown",
   "metadata": {
    "pycharm": {
     "name": "#%% md\n"
    }
   },
   "source": [
    "<details>\n",
    "    <summary><b>Click here</b> to show/hide a hint about how to use the camel2snake() function.</summary>\n",
    "    <br>\n",
    "    You will have to use a for loop to loop over the existing column names from the autos dataframe and then apply the camel2snake() function to the selected column name. \n",
    "    \n",
    "You will need a new list to add the transformed column names to. Initialize this list before the for loop and then add the transformed column names inside the for loop.\n",
    "</details>\n",
    "\n"
   ]
  },
  {
   "attachments": {},
   "cell_type": "markdown",
   "metadata": {
    "pycharm": {
     "name": "#%% md\n"
    }
   },
   "source": [
    "<br>"
   ]
  },
  {
   "cell_type": "code",
   "execution_count": 4,
   "metadata": {
    "pycharm": {
     "name": "#%%\n"
    }
   },
   "outputs": [],
   "source": [
    "# replace with rename method\n",
    "autos = autos.rename(columns={'yearOfRegistration': 'registration_year',\n",
    "                              'monthOfRegistration': 'registration_month',\n",
    "                              'notRepairedDamage': 'not_repaired_damage'})\n",
    "\n"
   ]
  },
  {
   "cell_type": "code",
   "execution_count": 5,
   "metadata": {
    "pycharm": {
     "name": "#%%\n"
    }
   },
   "outputs": [
    {
     "data": {
      "text/plain": [
       "Index(['date_crawled', 'name', 'seller', 'offer_type', 'price', 'abtest',\n",
       "       'vehicle_type', 'registration_year', 'gearbox', 'power_ps', 'model',\n",
       "       'odometer', 'registration_month', 'fuel_type', 'brand',\n",
       "       'not_repaired_damage', 'date_created', 'nr_of_pictures', 'postal_code',\n",
       "       'last_seen'],\n",
       "      dtype='object')"
      ]
     },
     "execution_count": 5,
     "metadata": {},
     "output_type": "execute_result"
    }
   ],
   "source": [
    "# using a function\n",
    "def camel2snake(col):\n",
    "    new_col = ''\n",
    "    for i in range(len(col)):\n",
    "        new_col += col[i].lower()\n",
    "        if i < len(col)-1:\n",
    "            if col[i].islower() and col[i+1].isupper():\n",
    "                new_col += '_'\n",
    "    return new_col\n",
    "\n",
    "new_columns = []\n",
    "\n",
    "for col in autos.columns:\n",
    "    new_col = camel2snake(col)\n",
    "    new_columns.append(new_col)\n",
    "\n",
    "autos.columns = new_columns\n",
    "autos.columns"
   ]
  },
  {
   "attachments": {},
   "cell_type": "markdown",
   "metadata": {
    "pycharm": {
     "name": "#%% md\n"
    }
   },
   "source": [
    "### Task 3: Explore and clean columns\n",
    "\n",
    "1. Explore the column values with the `.describe()` method.\n",
    "2. What do you notice?\n",
    "    - For categorical columns like `name`, `seller`, `offer_type` etc., pay attention to the number of unique values (`unique` row) and the frequency (`freq` row) of the most frequent (`top` row) value.\n",
    "    - For numerical columns like `price`, `power_ps` etc, pay attention to the distribution of the values as indicated by the `min`, `max` and `mean` rows.\n",
    "3. For categorical columns you can also use the `.value_counts()` method to better understand the distinct values and their frequency."
   ]
  },
  {
   "cell_type": "markdown",
   "metadata": {
    "pycharm": {
     "name": "#%% md\n"
    }
   },
   "source": [
    "<br>"
   ]
  },
  {
   "attachments": {},
   "cell_type": "markdown",
   "metadata": {
    "pycharm": {
     "name": "#%% md\n"
    }
   },
   "source": [
    "<details>\n",
    "    <summary><b>Click here</b> to continue once you identified all problematic columns.</summary>\n",
    "    <br>\n",
    "    \n",
    "Columns that can be dropped because of singular value:\n",
    "- seller: 2nd most frequent value occurs only twice\n",
    "- offer_type: 2nd most frequent value occurs only 8 times\n",
    "- nr_of_pictures: all 0\n",
    "\n",
    "Columns that need more investigation:\n",
    "- name (additional characteristics are encoded here (air con, condition, tuning, leather seats, etc)\n",
    "- price is string and has illegal characters for numerical type (€ and comma)\n",
    "- year_of_registration has invalid (out-of-range) values\n",
    "- odometer is string and has illegal characters for numerical type (km and comma)\n",
    "- power_ps has invalid (out-of-range) values\n",
    "- month_of_registration has values from 0-12, month of registration is probably optional and 0 means no value provided. Zeros should be replaced with `np.nan`.\n",
    "\n",
    "The next step will be to clean the price and odometer columns. \n",
    "- Further inspect the price and odometer column values to identify all illegal characters, i.e. characters that are not numbers.\n",
    "- Remove those characters from the column using the str.replace() method and then convert the column to the integer type.\n",
    "</details>\n",
    "\n"
   ]
  },
  {
   "cell_type": "markdown",
   "metadata": {
    "pycharm": {
     "name": "#%% md\n"
    }
   },
   "source": [
    "<br>"
   ]
  },
  {
   "cell_type": "code",
   "execution_count": 6,
   "metadata": {
    "pycharm": {
     "name": "#%%\n"
    }
   },
   "outputs": [
    {
     "data": {
      "text/html": [
       "<div>\n",
       "<style scoped>\n",
       "    .dataframe tbody tr th:only-of-type {\n",
       "        vertical-align: middle;\n",
       "    }\n",
       "\n",
       "    .dataframe tbody tr th {\n",
       "        vertical-align: top;\n",
       "    }\n",
       "\n",
       "    .dataframe thead th {\n",
       "        text-align: right;\n",
       "    }\n",
       "</style>\n",
       "<table border=\"1\" class=\"dataframe\">\n",
       "  <thead>\n",
       "    <tr style=\"text-align: right;\">\n",
       "      <th></th>\n",
       "      <th>date_crawled</th>\n",
       "      <th>name</th>\n",
       "      <th>seller</th>\n",
       "      <th>offer_type</th>\n",
       "      <th>price</th>\n",
       "      <th>abtest</th>\n",
       "      <th>vehicle_type</th>\n",
       "      <th>registration_year</th>\n",
       "      <th>gearbox</th>\n",
       "      <th>power_ps</th>\n",
       "      <th>model</th>\n",
       "      <th>odometer</th>\n",
       "      <th>registration_month</th>\n",
       "      <th>fuel_type</th>\n",
       "      <th>brand</th>\n",
       "      <th>not_repaired_damage</th>\n",
       "      <th>date_created</th>\n",
       "      <th>nr_of_pictures</th>\n",
       "      <th>postal_code</th>\n",
       "      <th>last_seen</th>\n",
       "    </tr>\n",
       "  </thead>\n",
       "  <tbody>\n",
       "    <tr>\n",
       "      <th>count</th>\n",
       "      <td>250000</td>\n",
       "      <td>250000</td>\n",
       "      <td>250000</td>\n",
       "      <td>250000</td>\n",
       "      <td>250000</td>\n",
       "      <td>250000</td>\n",
       "      <td>224505</td>\n",
       "      <td>250000.000000</td>\n",
       "      <td>236425</td>\n",
       "      <td>250000.000000</td>\n",
       "      <td>236186</td>\n",
       "      <td>250000</td>\n",
       "      <td>250000.000000</td>\n",
       "      <td>227660</td>\n",
       "      <td>250000</td>\n",
       "      <td>201659</td>\n",
       "      <td>250000</td>\n",
       "      <td>250000.0</td>\n",
       "      <td>250000.000000</td>\n",
       "      <td>250000</td>\n",
       "    </tr>\n",
       "    <tr>\n",
       "      <th>unique</th>\n",
       "      <td>207618</td>\n",
       "      <td>164344</td>\n",
       "      <td>2</td>\n",
       "      <td>2</td>\n",
       "      <td>4750</td>\n",
       "      <td>2</td>\n",
       "      <td>8</td>\n",
       "      <td>NaN</td>\n",
       "      <td>2</td>\n",
       "      <td>NaN</td>\n",
       "      <td>250</td>\n",
       "      <td>13</td>\n",
       "      <td>NaN</td>\n",
       "      <td>7</td>\n",
       "      <td>40</td>\n",
       "      <td>2</td>\n",
       "      <td>102</td>\n",
       "      <td>NaN</td>\n",
       "      <td>NaN</td>\n",
       "      <td>136971</td>\n",
       "    </tr>\n",
       "    <tr>\n",
       "      <th>top</th>\n",
       "      <td>2016-03-24 14:49:47</td>\n",
       "      <td>Ford_Fiesta</td>\n",
       "      <td>private</td>\n",
       "      <td>Angebot</td>\n",
       "      <td>€0</td>\n",
       "      <td>test</td>\n",
       "      <td>saloon</td>\n",
       "      <td>NaN</td>\n",
       "      <td>manual</td>\n",
       "      <td>NaN</td>\n",
       "      <td>golf</td>\n",
       "      <td>150,000km</td>\n",
       "      <td>NaN</td>\n",
       "      <td>petrol</td>\n",
       "      <td>volkswagen</td>\n",
       "      <td>no</td>\n",
       "      <td>2016-04-03 00:00:00</td>\n",
       "      <td>NaN</td>\n",
       "      <td>NaN</td>\n",
       "      <td>2016-04-07 09:44:27</td>\n",
       "    </tr>\n",
       "    <tr>\n",
       "      <th>freq</th>\n",
       "      <td>6</td>\n",
       "      <td>441</td>\n",
       "      <td>249998</td>\n",
       "      <td>249991</td>\n",
       "      <td>7221</td>\n",
       "      <td>129749</td>\n",
       "      <td>64474</td>\n",
       "      <td>NaN</td>\n",
       "      <td>184582</td>\n",
       "      <td>NaN</td>\n",
       "      <td>20386</td>\n",
       "      <td>162178</td>\n",
       "      <td>NaN</td>\n",
       "      <td>150977</td>\n",
       "      <td>53874</td>\n",
       "      <td>177262</td>\n",
       "      <td>9694</td>\n",
       "      <td>NaN</td>\n",
       "      <td>NaN</td>\n",
       "      <td>15</td>\n",
       "    </tr>\n",
       "    <tr>\n",
       "      <th>mean</th>\n",
       "      <td>NaN</td>\n",
       "      <td>NaN</td>\n",
       "      <td>NaN</td>\n",
       "      <td>NaN</td>\n",
       "      <td>NaN</td>\n",
       "      <td>NaN</td>\n",
       "      <td>NaN</td>\n",
       "      <td>2004.643452</td>\n",
       "      <td>NaN</td>\n",
       "      <td>115.830540</td>\n",
       "      <td>NaN</td>\n",
       "      <td>NaN</td>\n",
       "      <td>5.731192</td>\n",
       "      <td>NaN</td>\n",
       "      <td>NaN</td>\n",
       "      <td>NaN</td>\n",
       "      <td>NaN</td>\n",
       "      <td>0.0</td>\n",
       "      <td>50789.950240</td>\n",
       "      <td>NaN</td>\n",
       "    </tr>\n",
       "    <tr>\n",
       "      <th>std</th>\n",
       "      <td>NaN</td>\n",
       "      <td>NaN</td>\n",
       "      <td>NaN</td>\n",
       "      <td>NaN</td>\n",
       "      <td>NaN</td>\n",
       "      <td>NaN</td>\n",
       "      <td>NaN</td>\n",
       "      <td>95.815333</td>\n",
       "      <td>NaN</td>\n",
       "      <td>201.317045</td>\n",
       "      <td>NaN</td>\n",
       "      <td>NaN</td>\n",
       "      <td>3.711390</td>\n",
       "      <td>NaN</td>\n",
       "      <td>NaN</td>\n",
       "      <td>NaN</td>\n",
       "      <td>NaN</td>\n",
       "      <td>0.0</td>\n",
       "      <td>25812.665203</td>\n",
       "      <td>NaN</td>\n",
       "    </tr>\n",
       "    <tr>\n",
       "      <th>min</th>\n",
       "      <td>NaN</td>\n",
       "      <td>NaN</td>\n",
       "      <td>NaN</td>\n",
       "      <td>NaN</td>\n",
       "      <td>NaN</td>\n",
       "      <td>NaN</td>\n",
       "      <td>NaN</td>\n",
       "      <td>1000.000000</td>\n",
       "      <td>NaN</td>\n",
       "      <td>0.000000</td>\n",
       "      <td>NaN</td>\n",
       "      <td>NaN</td>\n",
       "      <td>0.000000</td>\n",
       "      <td>NaN</td>\n",
       "      <td>NaN</td>\n",
       "      <td>NaN</td>\n",
       "      <td>NaN</td>\n",
       "      <td>0.0</td>\n",
       "      <td>1067.000000</td>\n",
       "      <td>NaN</td>\n",
       "    </tr>\n",
       "    <tr>\n",
       "      <th>25%</th>\n",
       "      <td>NaN</td>\n",
       "      <td>NaN</td>\n",
       "      <td>NaN</td>\n",
       "      <td>NaN</td>\n",
       "      <td>NaN</td>\n",
       "      <td>NaN</td>\n",
       "      <td>NaN</td>\n",
       "      <td>1999.000000</td>\n",
       "      <td>NaN</td>\n",
       "      <td>70.000000</td>\n",
       "      <td>NaN</td>\n",
       "      <td>NaN</td>\n",
       "      <td>3.000000</td>\n",
       "      <td>NaN</td>\n",
       "      <td>NaN</td>\n",
       "      <td>NaN</td>\n",
       "      <td>NaN</td>\n",
       "      <td>0.0</td>\n",
       "      <td>30455.000000</td>\n",
       "      <td>NaN</td>\n",
       "    </tr>\n",
       "    <tr>\n",
       "      <th>50%</th>\n",
       "      <td>NaN</td>\n",
       "      <td>NaN</td>\n",
       "      <td>NaN</td>\n",
       "      <td>NaN</td>\n",
       "      <td>NaN</td>\n",
       "      <td>NaN</td>\n",
       "      <td>NaN</td>\n",
       "      <td>2003.000000</td>\n",
       "      <td>NaN</td>\n",
       "      <td>105.000000</td>\n",
       "      <td>NaN</td>\n",
       "      <td>NaN</td>\n",
       "      <td>6.000000</td>\n",
       "      <td>NaN</td>\n",
       "      <td>NaN</td>\n",
       "      <td>NaN</td>\n",
       "      <td>NaN</td>\n",
       "      <td>0.0</td>\n",
       "      <td>49584.000000</td>\n",
       "      <td>NaN</td>\n",
       "    </tr>\n",
       "    <tr>\n",
       "      <th>75%</th>\n",
       "      <td>NaN</td>\n",
       "      <td>NaN</td>\n",
       "      <td>NaN</td>\n",
       "      <td>NaN</td>\n",
       "      <td>NaN</td>\n",
       "      <td>NaN</td>\n",
       "      <td>NaN</td>\n",
       "      <td>2008.000000</td>\n",
       "      <td>NaN</td>\n",
       "      <td>150.000000</td>\n",
       "      <td>NaN</td>\n",
       "      <td>NaN</td>\n",
       "      <td>9.000000</td>\n",
       "      <td>NaN</td>\n",
       "      <td>NaN</td>\n",
       "      <td>NaN</td>\n",
       "      <td>NaN</td>\n",
       "      <td>0.0</td>\n",
       "      <td>71554.000000</td>\n",
       "      <td>NaN</td>\n",
       "    </tr>\n",
       "    <tr>\n",
       "      <th>max</th>\n",
       "      <td>NaN</td>\n",
       "      <td>NaN</td>\n",
       "      <td>NaN</td>\n",
       "      <td>NaN</td>\n",
       "      <td>NaN</td>\n",
       "      <td>NaN</td>\n",
       "      <td>NaN</td>\n",
       "      <td>9999.000000</td>\n",
       "      <td>NaN</td>\n",
       "      <td>20000.000000</td>\n",
       "      <td>NaN</td>\n",
       "      <td>NaN</td>\n",
       "      <td>12.000000</td>\n",
       "      <td>NaN</td>\n",
       "      <td>NaN</td>\n",
       "      <td>NaN</td>\n",
       "      <td>NaN</td>\n",
       "      <td>0.0</td>\n",
       "      <td>99998.000000</td>\n",
       "      <td>NaN</td>\n",
       "    </tr>\n",
       "  </tbody>\n",
       "</table>\n",
       "</div>"
      ],
      "text/plain": [
       "               date_crawled         name   seller offer_type   price  abtest  \\\n",
       "count                250000       250000   250000     250000  250000  250000   \n",
       "unique               207618       164344        2          2    4750       2   \n",
       "top     2016-03-24 14:49:47  Ford_Fiesta  private    Angebot      €0    test   \n",
       "freq                      6          441   249998     249991    7221  129749   \n",
       "mean                    NaN          NaN      NaN        NaN     NaN     NaN   \n",
       "std                     NaN          NaN      NaN        NaN     NaN     NaN   \n",
       "min                     NaN          NaN      NaN        NaN     NaN     NaN   \n",
       "25%                     NaN          NaN      NaN        NaN     NaN     NaN   \n",
       "50%                     NaN          NaN      NaN        NaN     NaN     NaN   \n",
       "75%                     NaN          NaN      NaN        NaN     NaN     NaN   \n",
       "max                     NaN          NaN      NaN        NaN     NaN     NaN   \n",
       "\n",
       "       vehicle_type  registration_year gearbox       power_ps   model  \\\n",
       "count        224505      250000.000000  236425  250000.000000  236186   \n",
       "unique            8                NaN       2            NaN     250   \n",
       "top          saloon                NaN  manual            NaN    golf   \n",
       "freq          64474                NaN  184582            NaN   20386   \n",
       "mean            NaN        2004.643452     NaN     115.830540     NaN   \n",
       "std             NaN          95.815333     NaN     201.317045     NaN   \n",
       "min             NaN        1000.000000     NaN       0.000000     NaN   \n",
       "25%             NaN        1999.000000     NaN      70.000000     NaN   \n",
       "50%             NaN        2003.000000     NaN     105.000000     NaN   \n",
       "75%             NaN        2008.000000     NaN     150.000000     NaN   \n",
       "max             NaN        9999.000000     NaN   20000.000000     NaN   \n",
       "\n",
       "         odometer  registration_month fuel_type       brand  \\\n",
       "count      250000       250000.000000    227660      250000   \n",
       "unique         13                 NaN         7          40   \n",
       "top     150,000km                 NaN    petrol  volkswagen   \n",
       "freq       162178                 NaN    150977       53874   \n",
       "mean          NaN            5.731192       NaN         NaN   \n",
       "std           NaN            3.711390       NaN         NaN   \n",
       "min           NaN            0.000000       NaN         NaN   \n",
       "25%           NaN            3.000000       NaN         NaN   \n",
       "50%           NaN            6.000000       NaN         NaN   \n",
       "75%           NaN            9.000000       NaN         NaN   \n",
       "max           NaN           12.000000       NaN         NaN   \n",
       "\n",
       "       not_repaired_damage         date_created  nr_of_pictures  \\\n",
       "count               201659               250000        250000.0   \n",
       "unique                   2                  102             NaN   \n",
       "top                     no  2016-04-03 00:00:00             NaN   \n",
       "freq                177262                 9694             NaN   \n",
       "mean                   NaN                  NaN             0.0   \n",
       "std                    NaN                  NaN             0.0   \n",
       "min                    NaN                  NaN             0.0   \n",
       "25%                    NaN                  NaN             0.0   \n",
       "50%                    NaN                  NaN             0.0   \n",
       "75%                    NaN                  NaN             0.0   \n",
       "max                    NaN                  NaN             0.0   \n",
       "\n",
       "          postal_code            last_seen  \n",
       "count   250000.000000               250000  \n",
       "unique            NaN               136971  \n",
       "top               NaN  2016-04-07 09:44:27  \n",
       "freq              NaN                   15  \n",
       "mean     50789.950240                  NaN  \n",
       "std      25812.665203                  NaN  \n",
       "min       1067.000000                  NaN  \n",
       "25%      30455.000000                  NaN  \n",
       "50%      49584.000000                  NaN  \n",
       "75%      71554.000000                  NaN  \n",
       "max      99998.000000                  NaN  "
      ]
     },
     "execution_count": 6,
     "metadata": {},
     "output_type": "execute_result"
    }
   ],
   "source": [
    "# get descriptives for all columns\n",
    "autos.describe(include='all')"
   ]
  },
  {
   "cell_type": "code",
   "execution_count": 7,
   "metadata": {
    "pycharm": {
     "name": "#%%\n"
    }
   },
   "outputs": [
    {
     "data": {
      "text/plain": [
       "array(['Skoda_Octavia_1.9_TDI_Combi_Laurin_&_Klement',\n",
       "       'Opel_Agila_1.2_16_V',\n",
       "       'Fiat_Stilo_Abarth_170_PS__20v_Vollaustattung',\n",
       "       'Renault_Megane_1.9_dCi_FAP_Coupe_Cabriolet_NAVI__VOLLLED',\n",
       "       'Mercedes_W_203_Sportcoupe_mit_Vollausstattung',\n",
       "       'Volkswagen_Passat_Variant_1.9_TDI_AUTOMATIK___TÜV_BIS_12.16',\n",
       "       'Citroen_ZX_1_4_Benzin_mit_TÜV__Servo_',\n",
       "       'Audi_A4_2.0_7_Gang_Automatik', 'Renault_Scenic_2.0_16V_defekt',\n",
       "       'Fiat_Punto_1.2_SX', 'Golf_3__1600ccm_/_75_PS',\n",
       "       'Opel_Corsa_D_+++2_JAHRE_TÜV++KLIMA+SERVO+ZV+MULTIFUNKTIONSLENKRAD',\n",
       "       'Opel_Vivaro_2.5_CDTI_L1H1_Life_Cosmo_Westfalia',\n",
       "       'Mercedes_C_180_TÜV_NEU_Service_NEU_Leder___AHK',\n",
       "       'Golf_3_Projekt_abzugeben', 'Mercedes_Benz_W_124',\n",
       "       'Bmw_e46_330ci_cabrio', 'Chevrolet_g20_mit_nur_39000km',\n",
       "       'Volkswagen_Caravelle_CL_255_562/Z04', 'BMW_325i_Aut.',\n",
       "       'Golf_IV_Cabrio_1.8', 'BMW_330i_xDrive_Touring_Edition_Exclusive',\n",
       "       'Nur_bis_sonntag', 'Volkswagen_Touareg_2.5_R5_TDI_Automatik',\n",
       "       'Fiat_Punto_Evo_1.4_8V_Dualogic_Dynamic_Start&Stop',\n",
       "       'Opel_Insignia_2_0_Turbo_4x4', 'Opel_Astra_G', 'Fiat_seicento',\n",
       "       'Audi_S3_Sportback_Quattro_S_Tronic___Neuwagen',\n",
       "       'Mercedes_A_160_CDI_Classic_DPF_TOP_!'], dtype=object)"
      ]
     },
     "execution_count": 7,
     "metadata": {},
     "output_type": "execute_result"
    }
   ],
   "source": [
    "autos['name'].unique()[:30]"
   ]
  },
  {
   "cell_type": "code",
   "execution_count": 8,
   "metadata": {
    "pycharm": {
     "name": "#%%\n"
    }
   },
   "outputs": [
    {
     "data": {
      "text/plain": [
       "€0          7221\n",
       "€500        3760\n",
       "€1,500      3707\n",
       "€1,000      3126\n",
       "€1,200      3112\n",
       "            ... \n",
       "€108           1\n",
       "€648           1\n",
       "€179,000       1\n",
       "€26,699        1\n",
       "€4,989         1\n",
       "Name: price, Length: 4750, dtype: int64"
      ]
     },
     "execution_count": 8,
     "metadata": {},
     "output_type": "execute_result"
    }
   ],
   "source": [
    "autos['price'].value_counts()"
   ]
  },
  {
   "cell_type": "code",
   "execution_count": 9,
   "metadata": {
    "pycharm": {
     "name": "#%%\n"
    }
   },
   "outputs": [
    {
     "data": {
      "text/html": [
       "<div>\n",
       "<style scoped>\n",
       "    .dataframe tbody tr th:only-of-type {\n",
       "        vertical-align: middle;\n",
       "    }\n",
       "\n",
       "    .dataframe tbody tr th {\n",
       "        vertical-align: top;\n",
       "    }\n",
       "\n",
       "    .dataframe thead th {\n",
       "        text-align: right;\n",
       "    }\n",
       "</style>\n",
       "<table border=\"1\" class=\"dataframe\">\n",
       "  <thead>\n",
       "    <tr style=\"text-align: right;\">\n",
       "      <th></th>\n",
       "      <th>registration_year</th>\n",
       "      <th>power_ps</th>\n",
       "      <th>registration_month</th>\n",
       "      <th>nr_of_pictures</th>\n",
       "      <th>postal_code</th>\n",
       "    </tr>\n",
       "  </thead>\n",
       "  <tbody>\n",
       "    <tr>\n",
       "      <th>count</th>\n",
       "      <td>250000.000000</td>\n",
       "      <td>250000.000000</td>\n",
       "      <td>250000.000000</td>\n",
       "      <td>250000.0</td>\n",
       "      <td>250000.000000</td>\n",
       "    </tr>\n",
       "    <tr>\n",
       "      <th>mean</th>\n",
       "      <td>2004.643452</td>\n",
       "      <td>115.830540</td>\n",
       "      <td>5.731192</td>\n",
       "      <td>0.0</td>\n",
       "      <td>50789.950240</td>\n",
       "    </tr>\n",
       "    <tr>\n",
       "      <th>std</th>\n",
       "      <td>95.815333</td>\n",
       "      <td>201.317045</td>\n",
       "      <td>3.711390</td>\n",
       "      <td>0.0</td>\n",
       "      <td>25812.665203</td>\n",
       "    </tr>\n",
       "    <tr>\n",
       "      <th>min</th>\n",
       "      <td>1000.000000</td>\n",
       "      <td>0.000000</td>\n",
       "      <td>0.000000</td>\n",
       "      <td>0.0</td>\n",
       "      <td>1067.000000</td>\n",
       "    </tr>\n",
       "    <tr>\n",
       "      <th>25%</th>\n",
       "      <td>1999.000000</td>\n",
       "      <td>70.000000</td>\n",
       "      <td>3.000000</td>\n",
       "      <td>0.0</td>\n",
       "      <td>30455.000000</td>\n",
       "    </tr>\n",
       "    <tr>\n",
       "      <th>50%</th>\n",
       "      <td>2003.000000</td>\n",
       "      <td>105.000000</td>\n",
       "      <td>6.000000</td>\n",
       "      <td>0.0</td>\n",
       "      <td>49584.000000</td>\n",
       "    </tr>\n",
       "    <tr>\n",
       "      <th>75%</th>\n",
       "      <td>2008.000000</td>\n",
       "      <td>150.000000</td>\n",
       "      <td>9.000000</td>\n",
       "      <td>0.0</td>\n",
       "      <td>71554.000000</td>\n",
       "    </tr>\n",
       "    <tr>\n",
       "      <th>max</th>\n",
       "      <td>9999.000000</td>\n",
       "      <td>20000.000000</td>\n",
       "      <td>12.000000</td>\n",
       "      <td>0.0</td>\n",
       "      <td>99998.000000</td>\n",
       "    </tr>\n",
       "  </tbody>\n",
       "</table>\n",
       "</div>"
      ],
      "text/plain": [
       "       registration_year       power_ps  registration_month  nr_of_pictures  \\\n",
       "count      250000.000000  250000.000000       250000.000000        250000.0   \n",
       "mean         2004.643452     115.830540            5.731192             0.0   \n",
       "std            95.815333     201.317045            3.711390             0.0   \n",
       "min          1000.000000       0.000000            0.000000             0.0   \n",
       "25%          1999.000000      70.000000            3.000000             0.0   \n",
       "50%          2003.000000     105.000000            6.000000             0.0   \n",
       "75%          2008.000000     150.000000            9.000000             0.0   \n",
       "max          9999.000000   20000.000000           12.000000             0.0   \n",
       "\n",
       "         postal_code  \n",
       "count  250000.000000  \n",
       "mean    50789.950240  \n",
       "std     25812.665203  \n",
       "min      1067.000000  \n",
       "25%     30455.000000  \n",
       "50%     49584.000000  \n",
       "75%     71554.000000  \n",
       "max     99998.000000  "
      ]
     },
     "execution_count": 9,
     "metadata": {},
     "output_type": "execute_result"
    }
   ],
   "source": [
    "# get descriptives for numeric only\n",
    "autos.select_dtypes('number').describe()"
   ]
  },
  {
   "cell_type": "code",
   "execution_count": 10,
   "metadata": {
    "pycharm": {
     "name": "#%%\n"
    }
   },
   "outputs": [
    {
     "data": {
      "text/html": [
       "<div>\n",
       "<style scoped>\n",
       "    .dataframe tbody tr th:only-of-type {\n",
       "        vertical-align: middle;\n",
       "    }\n",
       "\n",
       "    .dataframe tbody tr th {\n",
       "        vertical-align: top;\n",
       "    }\n",
       "\n",
       "    .dataframe thead th {\n",
       "        text-align: right;\n",
       "    }\n",
       "</style>\n",
       "<table border=\"1\" class=\"dataframe\">\n",
       "  <thead>\n",
       "    <tr style=\"text-align: right;\">\n",
       "      <th></th>\n",
       "      <th>date_crawled</th>\n",
       "      <th>name</th>\n",
       "      <th>seller</th>\n",
       "      <th>offer_type</th>\n",
       "      <th>price</th>\n",
       "      <th>abtest</th>\n",
       "      <th>vehicle_type</th>\n",
       "      <th>gearbox</th>\n",
       "      <th>model</th>\n",
       "      <th>odometer</th>\n",
       "      <th>fuel_type</th>\n",
       "      <th>brand</th>\n",
       "      <th>not_repaired_damage</th>\n",
       "      <th>date_created</th>\n",
       "      <th>last_seen</th>\n",
       "    </tr>\n",
       "  </thead>\n",
       "  <tbody>\n",
       "    <tr>\n",
       "      <th>count</th>\n",
       "      <td>250000</td>\n",
       "      <td>250000</td>\n",
       "      <td>250000</td>\n",
       "      <td>250000</td>\n",
       "      <td>250000</td>\n",
       "      <td>250000</td>\n",
       "      <td>224505</td>\n",
       "      <td>236425</td>\n",
       "      <td>236186</td>\n",
       "      <td>250000</td>\n",
       "      <td>227660</td>\n",
       "      <td>250000</td>\n",
       "      <td>201659</td>\n",
       "      <td>250000</td>\n",
       "      <td>250000</td>\n",
       "    </tr>\n",
       "    <tr>\n",
       "      <th>unique</th>\n",
       "      <td>207618</td>\n",
       "      <td>164344</td>\n",
       "      <td>2</td>\n",
       "      <td>2</td>\n",
       "      <td>4750</td>\n",
       "      <td>2</td>\n",
       "      <td>8</td>\n",
       "      <td>2</td>\n",
       "      <td>250</td>\n",
       "      <td>13</td>\n",
       "      <td>7</td>\n",
       "      <td>40</td>\n",
       "      <td>2</td>\n",
       "      <td>102</td>\n",
       "      <td>136971</td>\n",
       "    </tr>\n",
       "    <tr>\n",
       "      <th>top</th>\n",
       "      <td>2016-03-24 14:49:47</td>\n",
       "      <td>Ford_Fiesta</td>\n",
       "      <td>private</td>\n",
       "      <td>Angebot</td>\n",
       "      <td>€0</td>\n",
       "      <td>test</td>\n",
       "      <td>saloon</td>\n",
       "      <td>manual</td>\n",
       "      <td>golf</td>\n",
       "      <td>150,000km</td>\n",
       "      <td>petrol</td>\n",
       "      <td>volkswagen</td>\n",
       "      <td>no</td>\n",
       "      <td>2016-04-03 00:00:00</td>\n",
       "      <td>2016-04-07 09:44:27</td>\n",
       "    </tr>\n",
       "    <tr>\n",
       "      <th>freq</th>\n",
       "      <td>6</td>\n",
       "      <td>441</td>\n",
       "      <td>249998</td>\n",
       "      <td>249991</td>\n",
       "      <td>7221</td>\n",
       "      <td>129749</td>\n",
       "      <td>64474</td>\n",
       "      <td>184582</td>\n",
       "      <td>20386</td>\n",
       "      <td>162178</td>\n",
       "      <td>150977</td>\n",
       "      <td>53874</td>\n",
       "      <td>177262</td>\n",
       "      <td>9694</td>\n",
       "      <td>15</td>\n",
       "    </tr>\n",
       "  </tbody>\n",
       "</table>\n",
       "</div>"
      ],
      "text/plain": [
       "               date_crawled         name   seller offer_type   price  abtest  \\\n",
       "count                250000       250000   250000     250000  250000  250000   \n",
       "unique               207618       164344        2          2    4750       2   \n",
       "top     2016-03-24 14:49:47  Ford_Fiesta  private    Angebot      €0    test   \n",
       "freq                      6          441   249998     249991    7221  129749   \n",
       "\n",
       "       vehicle_type gearbox   model   odometer fuel_type       brand  \\\n",
       "count        224505  236425  236186     250000    227660      250000   \n",
       "unique            8       2     250         13         7          40   \n",
       "top          saloon  manual    golf  150,000km    petrol  volkswagen   \n",
       "freq          64474  184582   20386     162178    150977       53874   \n",
       "\n",
       "       not_repaired_damage         date_created            last_seen  \n",
       "count               201659               250000               250000  \n",
       "unique                   2                  102               136971  \n",
       "top                     no  2016-04-03 00:00:00  2016-04-07 09:44:27  \n",
       "freq                177262                 9694                   15  "
      ]
     },
     "execution_count": 10,
     "metadata": {},
     "output_type": "execute_result"
    }
   ],
   "source": [
    "# get descriptives for non-numeric only\n",
    "autos.select_dtypes('object').describe()"
   ]
  },
  {
   "cell_type": "code",
   "execution_count": 11,
   "metadata": {
    "pycharm": {
     "name": "#%%\n"
    }
   },
   "outputs": [
    {
     "data": {
      "text/html": [
       "<div>\n",
       "<style scoped>\n",
       "    .dataframe tbody tr th:only-of-type {\n",
       "        vertical-align: middle;\n",
       "    }\n",
       "\n",
       "    .dataframe tbody tr th {\n",
       "        vertical-align: top;\n",
       "    }\n",
       "\n",
       "    .dataframe thead th {\n",
       "        text-align: right;\n",
       "    }\n",
       "</style>\n",
       "<table border=\"1\" class=\"dataframe\">\n",
       "  <thead>\n",
       "    <tr style=\"text-align: right;\">\n",
       "      <th></th>\n",
       "      <th>date_crawled</th>\n",
       "      <th>name</th>\n",
       "      <th>seller</th>\n",
       "      <th>offer_type</th>\n",
       "      <th>price</th>\n",
       "      <th>abtest</th>\n",
       "      <th>vehicle_type</th>\n",
       "      <th>gearbox</th>\n",
       "      <th>model</th>\n",
       "      <th>odometer</th>\n",
       "      <th>fuel_type</th>\n",
       "      <th>brand</th>\n",
       "      <th>not_repaired_damage</th>\n",
       "      <th>date_created</th>\n",
       "      <th>last_seen</th>\n",
       "    </tr>\n",
       "  </thead>\n",
       "  <tbody>\n",
       "    <tr>\n",
       "      <th>count</th>\n",
       "      <td>250000</td>\n",
       "      <td>250000</td>\n",
       "      <td>250000</td>\n",
       "      <td>250000</td>\n",
       "      <td>250000</td>\n",
       "      <td>250000</td>\n",
       "      <td>224505</td>\n",
       "      <td>236425</td>\n",
       "      <td>236186</td>\n",
       "      <td>250000</td>\n",
       "      <td>227660</td>\n",
       "      <td>250000</td>\n",
       "      <td>201659</td>\n",
       "      <td>250000</td>\n",
       "      <td>250000</td>\n",
       "    </tr>\n",
       "    <tr>\n",
       "      <th>unique</th>\n",
       "      <td>207618</td>\n",
       "      <td>164344</td>\n",
       "      <td>2</td>\n",
       "      <td>2</td>\n",
       "      <td>4750</td>\n",
       "      <td>2</td>\n",
       "      <td>8</td>\n",
       "      <td>2</td>\n",
       "      <td>250</td>\n",
       "      <td>13</td>\n",
       "      <td>7</td>\n",
       "      <td>40</td>\n",
       "      <td>2</td>\n",
       "      <td>102</td>\n",
       "      <td>136971</td>\n",
       "    </tr>\n",
       "    <tr>\n",
       "      <th>top</th>\n",
       "      <td>2016-03-24 14:49:47</td>\n",
       "      <td>Ford_Fiesta</td>\n",
       "      <td>private</td>\n",
       "      <td>Angebot</td>\n",
       "      <td>€0</td>\n",
       "      <td>test</td>\n",
       "      <td>saloon</td>\n",
       "      <td>manual</td>\n",
       "      <td>golf</td>\n",
       "      <td>150,000km</td>\n",
       "      <td>petrol</td>\n",
       "      <td>volkswagen</td>\n",
       "      <td>no</td>\n",
       "      <td>2016-04-03 00:00:00</td>\n",
       "      <td>2016-04-07 09:44:27</td>\n",
       "    </tr>\n",
       "    <tr>\n",
       "      <th>freq</th>\n",
       "      <td>6</td>\n",
       "      <td>441</td>\n",
       "      <td>249998</td>\n",
       "      <td>249991</td>\n",
       "      <td>7221</td>\n",
       "      <td>129749</td>\n",
       "      <td>64474</td>\n",
       "      <td>184582</td>\n",
       "      <td>20386</td>\n",
       "      <td>162178</td>\n",
       "      <td>150977</td>\n",
       "      <td>53874</td>\n",
       "      <td>177262</td>\n",
       "      <td>9694</td>\n",
       "      <td>15</td>\n",
       "    </tr>\n",
       "  </tbody>\n",
       "</table>\n",
       "</div>"
      ],
      "text/plain": [
       "               date_crawled         name   seller offer_type   price  abtest  \\\n",
       "count                250000       250000   250000     250000  250000  250000   \n",
       "unique               207618       164344        2          2    4750       2   \n",
       "top     2016-03-24 14:49:47  Ford_Fiesta  private    Angebot      €0    test   \n",
       "freq                      6          441   249998     249991    7221  129749   \n",
       "\n",
       "       vehicle_type gearbox   model   odometer fuel_type       brand  \\\n",
       "count        224505  236425  236186     250000    227660      250000   \n",
       "unique            8       2     250         13         7          40   \n",
       "top          saloon  manual    golf  150,000km    petrol  volkswagen   \n",
       "freq          64474  184582   20386     162178    150977       53874   \n",
       "\n",
       "       not_repaired_damage         date_created            last_seen  \n",
       "count               201659               250000               250000  \n",
       "unique                   2                  102               136971  \n",
       "top                     no  2016-04-03 00:00:00  2016-04-07 09:44:27  \n",
       "freq                177262                 9694                   15  "
      ]
     },
     "execution_count": 11,
     "metadata": {},
     "output_type": "execute_result"
    }
   ],
   "source": [
    "# get descriptives for non-numeric only\n",
    "autos.select_dtypes('object').describe()"
   ]
  },
  {
   "cell_type": "markdown",
   "metadata": {
    "pycharm": {
     "name": "#%% md\n"
    }
   },
   "source": [
    "Cleaning the price and odometer columns"
   ]
  },
  {
   "cell_type": "code",
   "execution_count": 12,
   "metadata": {
    "pycharm": {
     "name": "#%%\n"
    }
   },
   "outputs": [],
   "source": [
    "autos['price'] = (\n",
    "    autos['price']\n",
    "    .str.replace('€', '')\n",
    "    .str.replace(',', '')\n",
    "    .astype(int)\n",
    ")\n",
    "\n",
    "autos['odometer'] = (\n",
    "    autos['odometer']\n",
    "    .str.replace('km', '')\n",
    "    .str.replace(',', '')\n",
    "    .astype(int)\n",
    ")\n",
    "\n",
    "autos = autos.rename(columns={'odometer': 'odometer_km'})"
   ]
  },
  {
   "cell_type": "code",
   "execution_count": null,
   "metadata": {
    "pycharm": {
     "name": "#%%\n"
    }
   },
   "outputs": [],
   "source": [
    "# using regex\n",
    "autos['price'] = (\n",
    "    autos['price']\n",
    "    .str.findall(r\"[0-9]+\")\n",
    "    .str.join('')\n",
    "    .astype(int)\n",
    "    )\n",
    "\n",
    "autos['odometer'] = (\n",
    "    autos['odometer']\n",
    "    .str.findall(r\"[0-9]+\")\n",
    "    .str.join('')\n",
    "    .astype(int)\n",
    "    )\n"
   ]
  },
  {
   "cell_type": "code",
   "execution_count": 13,
   "metadata": {
    "pycharm": {
     "name": "#%%\n"
    }
   },
   "outputs": [
    {
     "data": {
      "text/html": [
       "<div>\n",
       "<style scoped>\n",
       "    .dataframe tbody tr th:only-of-type {\n",
       "        vertical-align: middle;\n",
       "    }\n",
       "\n",
       "    .dataframe tbody tr th {\n",
       "        vertical-align: top;\n",
       "    }\n",
       "\n",
       "    .dataframe thead th {\n",
       "        text-align: right;\n",
       "    }\n",
       "</style>\n",
       "<table border=\"1\" class=\"dataframe\">\n",
       "  <thead>\n",
       "    <tr style=\"text-align: right;\">\n",
       "      <th></th>\n",
       "      <th>price</th>\n",
       "      <th>registration_year</th>\n",
       "      <th>power_ps</th>\n",
       "      <th>odometer_km</th>\n",
       "      <th>registration_month</th>\n",
       "      <th>nr_of_pictures</th>\n",
       "      <th>postal_code</th>\n",
       "    </tr>\n",
       "  </thead>\n",
       "  <tbody>\n",
       "    <tr>\n",
       "      <th>count</th>\n",
       "      <td>2.500000e+05</td>\n",
       "      <td>250000.000000</td>\n",
       "      <td>250000.000000</td>\n",
       "      <td>250000.00000</td>\n",
       "      <td>250000.000000</td>\n",
       "      <td>250000.0</td>\n",
       "      <td>250000.000000</td>\n",
       "    </tr>\n",
       "    <tr>\n",
       "      <th>mean</th>\n",
       "      <td>1.005325e+04</td>\n",
       "      <td>2004.643452</td>\n",
       "      <td>115.830540</td>\n",
       "      <td>125664.16000</td>\n",
       "      <td>5.731192</td>\n",
       "      <td>0.0</td>\n",
       "      <td>50789.950240</td>\n",
       "    </tr>\n",
       "    <tr>\n",
       "      <th>std</th>\n",
       "      <td>5.779030e+05</td>\n",
       "      <td>95.815333</td>\n",
       "      <td>201.317045</td>\n",
       "      <td>40083.25733</td>\n",
       "      <td>3.711390</td>\n",
       "      <td>0.0</td>\n",
       "      <td>25812.665203</td>\n",
       "    </tr>\n",
       "    <tr>\n",
       "      <th>min</th>\n",
       "      <td>0.000000e+00</td>\n",
       "      <td>1000.000000</td>\n",
       "      <td>0.000000</td>\n",
       "      <td>5000.00000</td>\n",
       "      <td>0.000000</td>\n",
       "      <td>0.0</td>\n",
       "      <td>1067.000000</td>\n",
       "    </tr>\n",
       "    <tr>\n",
       "      <th>25%</th>\n",
       "      <td>1.150000e+03</td>\n",
       "      <td>1999.000000</td>\n",
       "      <td>70.000000</td>\n",
       "      <td>125000.00000</td>\n",
       "      <td>3.000000</td>\n",
       "      <td>0.0</td>\n",
       "      <td>30455.000000</td>\n",
       "    </tr>\n",
       "    <tr>\n",
       "      <th>50%</th>\n",
       "      <td>2.950000e+03</td>\n",
       "      <td>2003.000000</td>\n",
       "      <td>105.000000</td>\n",
       "      <td>150000.00000</td>\n",
       "      <td>6.000000</td>\n",
       "      <td>0.0</td>\n",
       "      <td>49584.000000</td>\n",
       "    </tr>\n",
       "    <tr>\n",
       "      <th>75%</th>\n",
       "      <td>7.199000e+03</td>\n",
       "      <td>2008.000000</td>\n",
       "      <td>150.000000</td>\n",
       "      <td>150000.00000</td>\n",
       "      <td>9.000000</td>\n",
       "      <td>0.0</td>\n",
       "      <td>71554.000000</td>\n",
       "    </tr>\n",
       "    <tr>\n",
       "      <th>max</th>\n",
       "      <td>1.000000e+08</td>\n",
       "      <td>9999.000000</td>\n",
       "      <td>20000.000000</td>\n",
       "      <td>150000.00000</td>\n",
       "      <td>12.000000</td>\n",
       "      <td>0.0</td>\n",
       "      <td>99998.000000</td>\n",
       "    </tr>\n",
       "  </tbody>\n",
       "</table>\n",
       "</div>"
      ],
      "text/plain": [
       "              price  registration_year       power_ps   odometer_km  \\\n",
       "count  2.500000e+05      250000.000000  250000.000000  250000.00000   \n",
       "mean   1.005325e+04        2004.643452     115.830540  125664.16000   \n",
       "std    5.779030e+05          95.815333     201.317045   40083.25733   \n",
       "min    0.000000e+00        1000.000000       0.000000    5000.00000   \n",
       "25%    1.150000e+03        1999.000000      70.000000  125000.00000   \n",
       "50%    2.950000e+03        2003.000000     105.000000  150000.00000   \n",
       "75%    7.199000e+03        2008.000000     150.000000  150000.00000   \n",
       "max    1.000000e+08        9999.000000   20000.000000  150000.00000   \n",
       "\n",
       "       registration_month  nr_of_pictures    postal_code  \n",
       "count       250000.000000        250000.0  250000.000000  \n",
       "mean             5.731192             0.0   50789.950240  \n",
       "std              3.711390             0.0   25812.665203  \n",
       "min              0.000000             0.0    1067.000000  \n",
       "25%              3.000000             0.0   30455.000000  \n",
       "50%              6.000000             0.0   49584.000000  \n",
       "75%              9.000000             0.0   71554.000000  \n",
       "max             12.000000             0.0   99998.000000  "
      ]
     },
     "execution_count": 13,
     "metadata": {},
     "output_type": "execute_result"
    }
   ],
   "source": [
    "autos.describe()"
   ]
  },
  {
   "attachments": {},
   "cell_type": "markdown",
   "metadata": {
    "pycharm": {
     "name": "#%% md\n"
    }
   },
   "source": [
    "<br>\n",
    "\n",
    "<br>\n",
    "\n",
    "\n",
    "### Task 4: Removing outliers from price column\n",
    "\n",
    "Use the example code below which chains the `value_counts()`, `sort_values()` and `head()` methods to get the frequencies for the lowest 10 values from the `price` column. \n",
    "- Do any of these values seem invalid or extreme and do you think they should be removed?\n",
    "- How can you adjust the code to get the highest 10 values and their frequencies? Are there any values that should be removed?\n"
   ]
  },
  {
   "attachments": {},
   "cell_type": "markdown",
   "metadata": {
    "pycharm": {
     "name": "#%% md\n"
    }
   },
   "source": [
    "<details>\n",
    "    <summary><b>Click here</b> once you think you have identfied values that should be removed.</summary>\n",
    "    <br>\n",
    "\n",
    "<b>lowest prices</b><br>\n",
    "Comparing the odometer, year of registration and ps for cars with a 0/1 price, there is no systematic difference most likely these values are invalid instead of people giving away their car for free. The same might be true for prices larger than 1 but it is difficult to determine a cutoff point where prices are valid.\n",
    "\n",
    "<b>highest prices</b><br>\n",
    "Prices seem to increase continuously until 300k. Above that value, prices go up in steps. The fact that the prices are no longer continuous is not necessarily an indication of invalid values, but we have to define a cutoff, since lots of the very high prices are invalid. We could also filter out cars above a certain price manually as there are only very few.\n",
    "\n",
    "</details>\n",
    "\n"
   ]
  },
  {
   "cell_type": "code",
   "execution_count": 14,
   "metadata": {
    "pycharm": {
     "name": "#%%\n"
    }
   },
   "outputs": [
    {
     "data": {
      "text/plain": [
       "0           7221\n",
       "1            800\n",
       "2             10\n",
       "3              7\n",
       "4              1\n",
       "            ... \n",
       "11111111       4\n",
       "12345678       7\n",
       "14000500       1\n",
       "32545461       1\n",
       "99999999       8\n",
       "Name: price, Length: 4750, dtype: int64"
      ]
     },
     "execution_count": 14,
     "metadata": {},
     "output_type": "execute_result"
    }
   ],
   "source": [
    "autos['price'].value_counts().sort_index()"
   ]
  },
  {
   "cell_type": "code",
   "execution_count": 15,
   "metadata": {
    "pycharm": {
     "name": "#%%\n"
    }
   },
   "outputs": [
    {
     "data": {
      "text/plain": [
       "99999999       8\n",
       "32545461       1\n",
       "14000500       1\n",
       "12345678       7\n",
       "11111111       4\n",
       "            ... \n",
       "4              1\n",
       "3              7\n",
       "2             10\n",
       "1            800\n",
       "0           7221\n",
       "Name: price, Length: 4750, dtype: int64"
      ]
     },
     "execution_count": 15,
     "metadata": {},
     "output_type": "execute_result"
    }
   ],
   "source": [
    "autos['price'].value_counts().sort_index(ascending=False)"
   ]
  },
  {
   "cell_type": "code",
   "execution_count": 16,
   "metadata": {
    "pycharm": {
     "name": "#%%\n"
    }
   },
   "outputs": [],
   "source": [
    "autos = autos.query(\"price > 1 and price <= 300000\")"
   ]
  },
  {
   "attachments": {},
   "cell_type": "markdown",
   "metadata": {
    "pycharm": {
     "name": "#%% md\n"
    }
   },
   "source": [
    "<br>\n",
    "\n",
    "<br>\n",
    "\n",
    "### Task 5: Removing outliers from odometer, power_ps and registration_year column\n",
    "\n",
    "Use the same techniques as applied in task 4 to assess outliers for the `odometer`, `power_ps` and `registration_year` column. \n",
    "\n",
    "Do any of these values seem invalid or extreme and do you think they should be removed?\n",
    "\n",
    "To infer the latest possible value for `registration_year`, we need to get the most recent value from the `date_created` column. \n",
    "\n",
    "You can convert the `date_created` column to datetime, with the `pd.to_datetime()` function and then get the maximum value.\n",
    "    \n"
   ]
  },
  {
   "attachments": {},
   "cell_type": "markdown",
   "metadata": {
    "pycharm": {
     "name": "#%% md\n"
    }
   },
   "source": [
    "<br>\n"
   ]
  },
  {
   "attachments": {},
   "cell_type": "markdown",
   "metadata": {
    "pycharm": {
     "name": "#%% md\n"
    }
   },
   "source": [
    "<details>\n",
    "    <summary><b>Click here</b> if you have identified values that should be removed from the odometer, power_ps and registration_year columns.</summary>\n",
    "    <br>\n",
    "<b>odometer</b><br>\n",
    "There are no extreme values. Users selected values from a dropdown menu.\n",
    "\n",
    "<b>power_ps</b><br>\n",
    "The 0 values should be removed. Looking at the distribution of values, cars with less than 40 hp are very rare and there will be many offers that are either parts, people looking for a car, offering swaps etc.\n",
    "\n",
    "<b>registration_year</b><br>\n",
    "Looking at the date_created column we know that the ads were scraped in 2016, which means that cars with a later registration rate should be removed.  \n",
    "Looking at the oldest values from registration_year, it seems that values start to become continuous from around 1910/1930. \n",
    "\n",
    "</details>\n",
    "\n"
   ]
  },
  {
   "cell_type": "markdown",
   "metadata": {
    "pycharm": {
     "name": "#%% md\n"
    }
   },
   "source": [
    "<br>\n"
   ]
  },
  {
   "cell_type": "code",
   "execution_count": 20,
   "metadata": {
    "pycharm": {
     "name": "#%%\n"
    }
   },
   "outputs": [
    {
     "data": {
      "text/plain": [
       "5000        3860\n",
       "10000       1256\n",
       "20000       3762\n",
       "30000       3978\n",
       "40000       4205\n",
       "50000       5047\n",
       "60000       5767\n",
       "70000       6496\n",
       "80000       7274\n",
       "90000       8293\n",
       "100000     10446\n",
       "125000     25078\n",
       "150000    156436\n",
       "Name: odometer_km, dtype: int64"
      ]
     },
     "execution_count": 20,
     "metadata": {},
     "output_type": "execute_result"
    }
   ],
   "source": [
    "# rounded values indicate a drop-down menu on the website for this value. \n",
    "# the higher proportion of high mileage cars makes sense given that mostly private sellers are active on this website\n",
    "autos['odometer_km'].value_counts().sort_index()"
   ]
  },
  {
   "cell_type": "code",
   "execution_count": 21,
   "metadata": {
    "pycharm": {
     "name": "#%%\n"
    }
   },
   "outputs": [
    {
     "data": {
      "text/plain": [
       "0     24452\n",
       "1        18\n",
       "2         6\n",
       "3         7\n",
       "4        15\n",
       "5        56\n",
       "6         6\n",
       "7         4\n",
       "8         5\n",
       "9         5\n",
       "10       11\n",
       "11       18\n",
       "12       12\n",
       "13        5\n",
       "14       17\n",
       "15       12\n",
       "16        7\n",
       "17        6\n",
       "18       34\n",
       "19        9\n",
       "Name: power_ps, dtype: int64"
      ]
     },
     "execution_count": 21,
     "metadata": {},
     "output_type": "execute_result"
    }
   ],
   "source": [
    "# 0 hp is clearly invalid unless these cars do not have a motor which the description does not indicate\n",
    "# all cars with 0 hp should be removed\n",
    "autos['power_ps'].value_counts().sort_index().head(20)"
   ]
  },
  {
   "cell_type": "code",
   "execution_count": 22,
   "metadata": {
    "pycharm": {
     "name": "#%%\n"
    }
   },
   "outputs": [
    {
     "data": {
      "image/png": "[encoded data removed]",
      "text/plain": [
       "<Figure size 640x480 with 1 Axes>"
      ]
     },
     "metadata": {},
     "output_type": "display_data"
    }
   ],
   "source": [
    "# the histogram shows that there are very few cars with less than 40 ps\n",
    "import matplotlib.pyplot as plt\n",
    "\n",
    "plt.style.use(\"fivethirtyeight\")\n",
    "plt.rcParams['font.size'] = 9\n",
    "\n",
    "hp = autos[autos['power_ps'] < 200]['power_ps']\n",
    "plt.hist(hp, weights=np.ones(len(hp))/len(autos), bins=np.arange(0, 200, 5))\n",
    "\n",
    "plt.show()\n"
   ]
  },
  {
   "cell_type": "code",
   "execution_count": 23,
   "metadata": {
    "pycharm": {
     "name": "#%%\n"
    }
   },
   "outputs": [
    {
     "data": {
      "image/png": "[encoded data removed]",
      "text/plain": [
       "<Figure size 640x480 with 1 Axes>"
      ]
     },
     "metadata": {},
     "output_type": "display_data"
    }
   ],
   "source": [
    "# the histogram shows that there are very few cars with more than 600 hp\n",
    "import matplotlib.pyplot as plt\n",
    "\n",
    "hp = autos[autos['power_ps'] > 200]['power_ps']\n",
    "plt.hist(hp, weights=np.ones(len(hp))/len(autos), bins=np.arange(200, 1000, 10))\n",
    "plt.show()\n"
   ]
  },
  {
   "cell_type": "code",
   "execution_count": 24,
   "metadata": {
    "pycharm": {
     "name": "#%%\n"
    }
   },
   "outputs": [],
   "source": [
    "# we remove cars with extreme hp values that are not representative\n",
    "autos = autos.query(\"power_ps > 40 and power_ps <= 600\")"
   ]
  },
  {
   "cell_type": "code",
   "execution_count": 25,
   "metadata": {
    "pycharm": {
     "name": "#%%\n"
    }
   },
   "outputs": [
    {
     "data": {
      "text/plain": [
       "1000     1\n",
       "1500     1\n",
       "1800     1\n",
       "1910     4\n",
       "1923     1\n",
       "1931     1\n",
       "1936     2\n",
       "1937     2\n",
       "1941     2\n",
       "1942     1\n",
       "1943     2\n",
       "1945     3\n",
       "1947     2\n",
       "1948     2\n",
       "1949     2\n",
       "1950     6\n",
       "1951    10\n",
       "1952     3\n",
       "1953     4\n",
       "1954     5\n",
       "Name: registration_year, dtype: int64"
      ]
     },
     "execution_count": 25,
     "metadata": {},
     "output_type": "execute_result"
    }
   ],
   "source": [
    "# registration year becomes continuoys from 1910\n",
    "autos['registration_year'].value_counts().sort_index().head(20)"
   ]
  },
  {
   "cell_type": "code",
   "execution_count": 28,
   "metadata": {
    "pycharm": {
     "name": "#%%\n"
    }
   },
   "outputs": [
    {
     "name": "stdout",
     "output_type": "stream",
     "text": [
      "2016-04-07 00:00:00\n"
     ]
    },
    {
     "data": {
      "text/plain": [
       "9999        1\n",
       "9000        1\n",
       "8200        1\n",
       "6000        2\n",
       "5911        1\n",
       "5000        5\n",
       "4500        1\n",
       "4000        1\n",
       "2019       10\n",
       "2018     1935\n",
       "2017     5031\n",
       "2016     4419\n",
       "2015     1847\n",
       "2014     3074\n",
       "2013     4006\n",
       "2012     6079\n",
       "2011     7802\n",
       "2010     7949\n",
       "2009     9994\n",
       "2008    10055\n",
       "Name: registration_year, dtype: int64"
      ]
     },
     "execution_count": 28,
     "metadata": {},
     "output_type": "execute_result"
    }
   ],
   "source": [
    "# the latest registration_year value should be 2016\n",
    "print(pd.to_datetime(autos['date_created']).max())\n",
    "autos['registration_year'].value_counts().sort_index(ascending=False).head(20)"
   ]
  },
  {
   "cell_type": "code",
   "execution_count": 30,
   "metadata": {
    "pycharm": {
     "name": "#%%\n"
    }
   },
   "outputs": [],
   "source": [
    "autos = autos.query(\"registration_year >= 1910 and registration_year <= 2016\")"
   ]
  },
  {
   "attachments": {},
   "cell_type": "markdown",
   "metadata": {
    "pycharm": {
     "name": "#%% md\n"
    }
   },
   "source": [
    "<br>\n",
    "\n",
    "<br>\n",
    "\n",
    "### Task 6 - Exploring price by brand\n",
    "1. Explore the unique values in the brand column, and decide on which brands you want to aggregate by.\n",
    "    - You might want to select the top 20, or you might want to select those that have over a certain percentage of the total values (e.g. > 5%).\n",
    "    - Remember that `Series.value_counts()` produces a series with index labels, so you can use Series.index attribute to access the labels, should you wish.\n",
    "2. Create an empty dictionary to hold your aggregate data.\n",
    "    - Loop over your selected brands, and assign the mean price to the dictionary, with the brand name as the key.\n",
    "    - Print your dictionary of aggregate data, and write a paragraph analyzing the results.\n",
    "    - You can easily convert the dictionary to a pandas Series with the `pd.Series()` constructor. Convert the dictionary to a pandas series and display the series.\n",
    "\n",
    "<br>\n"
   ]
  },
  {
   "cell_type": "code",
   "execution_count": 33,
   "metadata": {
    "pycharm": {
     "name": "#%%\n"
    }
   },
   "outputs": [
    {
     "data": {
      "text/plain": [
       "volkswagen       5608.743526\n",
       "bmw              8619.254024\n",
       "opel             3154.542911\n",
       "mercedes_benz    8798.683512\n",
       "audi             9350.024117\n",
       "ford             3884.144285\n",
       "renault          2618.470107\n",
       "peugeot          3376.468345\n",
       "fiat             3067.946077\n",
       "seat             4735.003090\n",
       "dtype: float64"
      ]
     },
     "execution_count": 33,
     "metadata": {},
     "output_type": "execute_result"
    }
   ],
   "source": [
    "top10 = autos['brand'].value_counts()[:10].index\n",
    "\n",
    "top10_price = {}\n",
    "for brand in top10:\n",
    "    brand_data = autos[autos['brand'] == brand]\n",
    "    brand_median_price = brand_data['price'].mean()\n",
    "    top10_price[brand] = brand_median_price\n",
    "    \n",
    "pd.Series(top10_price)"
   ]
  },
  {
   "attachments": {},
   "cell_type": "markdown",
   "metadata": {
    "pycharm": {
     "name": "#%% md\n"
    }
   },
   "source": [
    "<br>\n",
    "\n",
    "### Task 7 - Exploring mileage\n",
    "\n",
    "Let us apply the same steps from the previous task to create a dataframe with the mean price and mileage for each brand.\n",
    "\n",
    "1. Create two dictionaries for the mileage and price\n",
    "2. Loop over the brands names, filter the data for each brand, calculate the mean price and milage and add means to the dictionaries.\n",
    "3. Convert the dictionaries to pandas series\n",
    "4. Create a dataframe using the series for the mean prices\n",
    "5. Add a new column using the mean mileage values"
   ]
  },
  {
   "cell_type": "code",
   "execution_count": 34,
   "metadata": {
    "pycharm": {
     "name": "#%%\n"
    }
   },
   "outputs": [
    {
     "data": {
      "text/html": [
       "<div>\n",
       "<style scoped>\n",
       "    .dataframe tbody tr th:only-of-type {\n",
       "        vertical-align: middle;\n",
       "    }\n",
       "\n",
       "    .dataframe tbody tr th {\n",
       "        vertical-align: top;\n",
       "    }\n",
       "\n",
       "    .dataframe thead th {\n",
       "        text-align: right;\n",
       "    }\n",
       "</style>\n",
       "<table border=\"1\" class=\"dataframe\">\n",
       "  <thead>\n",
       "    <tr style=\"text-align: right;\">\n",
       "      <th></th>\n",
       "      <th>price</th>\n",
       "      <th>mileage</th>\n",
       "      <th>ppm</th>\n",
       "    </tr>\n",
       "  </thead>\n",
       "  <tbody>\n",
       "    <tr>\n",
       "      <th>audi</th>\n",
       "      <td>9350.024117</td>\n",
       "      <td>129192.090678</td>\n",
       "      <td>0.072373</td>\n",
       "    </tr>\n",
       "    <tr>\n",
       "      <th>mercedes_benz</th>\n",
       "      <td>8798.683512</td>\n",
       "      <td>130775.895357</td>\n",
       "      <td>0.067281</td>\n",
       "    </tr>\n",
       "    <tr>\n",
       "      <th>bmw</th>\n",
       "      <td>8619.254024</td>\n",
       "      <td>133295.707800</td>\n",
       "      <td>0.064663</td>\n",
       "    </tr>\n",
       "    <tr>\n",
       "      <th>volkswagen</th>\n",
       "      <td>5608.743526</td>\n",
       "      <td>128359.316524</td>\n",
       "      <td>0.043696</td>\n",
       "    </tr>\n",
       "    <tr>\n",
       "      <th>seat</th>\n",
       "      <td>4735.003090</td>\n",
       "      <td>120670.311386</td>\n",
       "      <td>0.039239</td>\n",
       "    </tr>\n",
       "    <tr>\n",
       "      <th>ford</th>\n",
       "      <td>3884.144285</td>\n",
       "      <td>124126.266404</td>\n",
       "      <td>0.031292</td>\n",
       "    </tr>\n",
       "    <tr>\n",
       "      <th>peugeot</th>\n",
       "      <td>3376.468345</td>\n",
       "      <td>124484.249537</td>\n",
       "      <td>0.027124</td>\n",
       "    </tr>\n",
       "    <tr>\n",
       "      <th>opel</th>\n",
       "      <td>3154.542911</td>\n",
       "      <td>128607.255798</td>\n",
       "      <td>0.024528</td>\n",
       "    </tr>\n",
       "    <tr>\n",
       "      <th>fiat</th>\n",
       "      <td>3067.946077</td>\n",
       "      <td>117103.367724</td>\n",
       "      <td>0.026199</td>\n",
       "    </tr>\n",
       "    <tr>\n",
       "      <th>renault</th>\n",
       "      <td>2618.470107</td>\n",
       "      <td>127278.487481</td>\n",
       "      <td>0.020573</td>\n",
       "    </tr>\n",
       "  </tbody>\n",
       "</table>\n",
       "</div>"
      ],
      "text/plain": [
       "                     price        mileage       ppm\n",
       "audi           9350.024117  129192.090678  0.072373\n",
       "mercedes_benz  8798.683512  130775.895357  0.067281\n",
       "bmw            8619.254024  133295.707800  0.064663\n",
       "volkswagen     5608.743526  128359.316524  0.043696\n",
       "seat           4735.003090  120670.311386  0.039239\n",
       "ford           3884.144285  124126.266404  0.031292\n",
       "peugeot        3376.468345  124484.249537  0.027124\n",
       "opel           3154.542911  128607.255798  0.024528\n",
       "fiat           3067.946077  117103.367724  0.026199\n",
       "renault        2618.470107  127278.487481  0.020573"
      ]
     },
     "execution_count": 34,
     "metadata": {},
     "output_type": "execute_result"
    }
   ],
   "source": [
    "top10 = autos['brand'].value_counts()[:10].index\n",
    "\n",
    "top10_mileage = {}\n",
    "top10_price = {}\n",
    "\n",
    "for brand in top10:\n",
    "    brand_data = autos[autos['brand'] == brand]\n",
    "    brand_mean_price = brand_data['price'].mean()\n",
    "    brand_mileage = brand_data['odometer_km'].mean()\n",
    "    top10_mileage[brand] = brand_mileage\n",
    "    top10_price[brand] = brand_mean_price\n",
    "    \n",
    "top10_price_series = pd.Series(top10_price)\n",
    "top10_mileage_series = pd.Series(top10_mileage)\n",
    "\n",
    "top10_df = pd.DataFrame(data=top10_price_series, \n",
    "                        columns=['price'])\n",
    "\n",
    "top10_df['mileage'] = top10_mileage_series\n",
    "top10_df['ppm'] = top10_df['price']  / top10_df['mileage']\n",
    "top10_df.sort_values(by='price', ascending=False)"
   ]
  }
 ],
 "metadata": {
  "kernelspec": {
   "display_name": "sklearn",
   "language": "python",
   "name": "python3"
  },
  "language_info": {
   "codemirror_mode": {
    "name": "ipython",
    "version": 3
   },
   "file_extension": ".py",
   "mimetype": "text/x-python",
   "name": "python",
   "nbconvert_exporter": "python",
   "pygments_lexer": "ipython3",
   "version": "3.10.9"
  },
  "vscode": {
   "interpreter": {
    "hash": "2dd13bd0ed3eae5f8ffbec9bca34097be622baa452204de76256e234b77f85de"
   }
  }
 },
 "nbformat": 4,
 "nbformat_minor": 4
}